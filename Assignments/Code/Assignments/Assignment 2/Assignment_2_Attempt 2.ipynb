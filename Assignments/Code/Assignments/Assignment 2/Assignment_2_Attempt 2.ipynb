{
 "cells": [
  {
   "cell_type": "markdown",
   "id": "8bf52b8a",
   "metadata": {
    "deletable": false
   },
   "source": [
    "\n",
    "# Assignment 2 for Course 1MS041\n",
    "Make sure you pass the `# ... Test` cells and\n",
    " submit your solution notebook in the corresponding assignment on the course website. You can submit multiple times before the deadline and your highest score will be used."
   ]
  },
  {
   "cell_type": "markdown",
   "id": "5aec0bfa",
   "metadata": {
    "deletable": false,
    "lx_assignment_number": "2",
    "lx_assignment_type": "ASSIGNMENT",
    "lx_assignment_type2print": "Assignment",
    "lx_problem_cell_type": "PROBLEM",
    "lx_problem_number": "1",
    "lx_problem_points": "8"
   },
   "source": [
    "---\n",
    "## Assignment 2, PROBLEM 1\n",
    "Maximum Points = 8"
   ]
  },
  {
   "cell_type": "markdown",
   "id": "db58f10b",
   "metadata": {
    "deletable": false,
    "lx_assignment_number": "2",
    "lx_assignment_type": "ASSIGNMENT",
    "lx_assignment_type2print": "Assignment",
    "lx_problem_cell_type": "PROBLEM",
    "lx_problem_number": "1",
    "lx_problem_points": "8"
   },
   "source": [
    "\n",
    "A courier company operates a fleet of delivery trucks that make deliveries to different parts of the city. The trucks are equipped with GPS tracking devices that record the location of each truck at regular intervals. The locations are divided into three regions: downtown, the suburbs, and the countryside. The following table shows the probabilities of a truck transitioning between these regions at each time step:\n",
    "\n",
    "| Current region | Probability of transitioning to downtown | Probability of transitioning to the suburbs | Probability of transitioning to the countryside |\n",
    "|----------------|--------------------------------------------|-----------------------------------------------|------------------------------------------------|\n",
    "| Downtown       | 0.3                                      | 0.4                                           | 0.3                                            |\n",
    "| Suburbs        | 0.2                                      | 0.5                                           | 0.3                                            |\n",
    "| Countryside    | 0.4                                      | 0.3                                           | 0.3                                            |\n",
    "\n",
    "1. If a truck is currently in the suburbs, what is the probability that it will be in the downtown region after two time steps? [1.5p]\n",
    "2. If a truck is currently in the suburbs, what is the probability that it will be in the downtown region **the first time** after two time steps? [1.5p]\n",
    "3. Is this Markov chain irreducible? [1.5p]\n",
    "4. What is the stationary distribution? [1.5p]\n",
    "5. Advanced question: What is the expected number of steps until the first time one enters the downtown region having started in the suburbs region. Hint: to get within 1 decimal point, it is enough to compute the probabilities for hitting times below 30. [2p]\n",
    "\n"
   ]
  },
  {
   "cell_type": "code",
   "execution_count": null,
   "id": "2c601f0f",
   "metadata": {
    "deletable": false,
    "lx_assignment_number": "2",
    "lx_assignment_type": "ASSIGNMENT",
    "lx_assignment_type2print": "Assignment",
    "lx_problem_cell_type": "PROBLEM",
    "lx_problem_number": "1",
    "lx_problem_points": "8"
   },
   "outputs": [],
   "source": [
    "# Part 1\n",
    "\n",
    "# Fill in the answer to part 1 below as a decimal number\n",
    "problem1_p1 = XXX"
   ]
  },
  {
   "metadata": {},
   "cell_type": "markdown",
   "source": [
    "To find the probability that a truck currently in the suburbs will be in the downtown region after two time steps, we can use the transition matrix to calculate the two-step transition probability from the suburbs to downtown.\n",
    "\n",
    "Explanation\n",
    "\n",
    "\t1.\tTwo-Step Transition Probability: The probability of transitioning from one state to another after multiple steps can be found by raising the transition matrix to the power of the number of steps. In this case, we need  P^2 , which gives the probability of moving between states in two time steps.\n",
    "\t2.\tMatrix Multiplication: After calculating  P^2 , we can look at the entry in the row for the suburbs and the column for downtown to get the probability of moving from suburbs to downtown in two steps."
   ],
   "id": "f5b32ffa3194bdd3"
  },
  {
   "metadata": {
    "ExecuteTime": {
     "end_time": "2024-11-04T12:45:16.544106Z",
     "start_time": "2024-11-04T12:45:16.212906Z"
    }
   },
   "cell_type": "code",
   "source": [
    "import numpy as np\n",
    "\n",
    "# Define the transition matrix\n",
    "P = np.array([\n",
    "    [0.3, 0.4, 0.3],\n",
    "    [0.2, 0.5, 0.3],\n",
    "    [0.4, 0.3, 0.3]\n",
    "])\n",
    "\n",
    "# Calculate P^2\n",
    "P_2 = np.linalg.matrix_power(P, 2)\n",
    "\n",
    "# Probability of transitioning from suburbs (index 1) to downtown (index 0) in two steps\n",
    "probability_suburbs_to_downtown = P_2[1, 0]\n",
    "\n",
    "print(\n",
    "    f\"The probability that a truck in the suburbs will be in downtown after two steps is: {probability_suburbs_to_downtown:.4f}\")"
   ],
   "id": "ad80c26fcb4ea2a1",
   "outputs": [
    {
     "name": "stdout",
     "output_type": "stream",
     "text": [
      "The probability that a truck in the suburbs will be in downtown after two steps is: 0.2800\n"
     ]
    }
   ],
   "execution_count": 1
  },
  {
   "cell_type": "code",
   "execution_count": null,
   "id": "52a172dc",
   "metadata": {
    "deletable": false,
    "lx_assignment_number": "2",
    "lx_assignment_type": "ASSIGNMENT",
    "lx_assignment_type2print": "Assignment",
    "lx_problem_cell_type": "PROBLEM",
    "lx_problem_number": "1",
    "lx_problem_points": "8"
   },
   "outputs": [],
   "source": [
    "# Part 2\n",
    "\n",
    "# Fill in the answer to part 2 below as a decimal number\n",
    "problem1_p2 = XXX"
   ]
  },
  {
   "metadata": {},
   "cell_type": "markdown",
   "source": [
    "Solution Explanation\n",
    "\n",
    "\t1.\tBreakdown of the Event:\n",
    "\t•\tFor the truck to be in the downtown region for the first time after two steps:\n",
    "\t•\tIn the first step, it must transition from suburbs to either the suburbs or countryside, avoiding downtown.\n",
    "\t•\tIn the second step, it must transition from the new region (either suburbs or countryside) to downtown.\n",
    "\t2.\tCalculation of Probabilities:\n",
    "\t•\tFirst, we calculate the probability of each path that fulfills this condition.\n",
    "\t•\tThe paths to consider are:\n",
    "\t•\tSuburbs → Suburbs → Downtown\n",
    "\t•\tSuburbs → Countryside → Downtown\n",
    "\n",
    "Using the transition matrix:\n",
    "\n",
    "\t•\tSuburbs → Suburbs → Downtown:\n",
    "\t•\tProbability of staying in suburbs in the first step = 0.5\n",
    "\t•\tProbability of transitioning from suburbs to downtown in the second step = 0.2\n",
    "\t•\tTotal probability for this path:  0.5 \\times 0.2 = 0.1 \n",
    "\t•\tSuburbs → Countryside → Downtown:\n",
    "\t•\tProbability of moving to countryside in the first step = 0.3\n",
    "\t•\tProbability of transitioning from countryside to downtown in the second step = 0.4\n",
    "\t•\tTotal probability for this path:  0.3 \\times 0.4 = 0.12 \n",
    "\t3.\tSumming Probabilities:\n",
    "\t•\tWe add the probabilities of these two paths to get the total probability of reaching downtown for the first time after exactly two steps."
   ],
   "id": "65526f71880648ba"
  },
  {
   "metadata": {
    "ExecuteTime": {
     "end_time": "2024-11-04T12:52:01.882266Z",
     "start_time": "2024-11-04T12:52:01.876866Z"
    }
   },
   "cell_type": "code",
   "source": [
    "# Probabilities of each path\n",
    "# Path 1: Suburbs -> Suburbs -> Downtown\n",
    "path1 = 0.5 * 0.2\n",
    "\n",
    "# Path 2: Suburbs -> Countryside -> Downtown\n",
    "path2 = 0.3 * 0.4\n",
    "\n",
    "# Total probability of reaching downtown for the first time after exactly 2 steps\n",
    "first_time_downtown_after_two_steps = path1 + path2\n",
    "\n",
    "print(\n",
    "    f\"The probability that a truck in the suburbs will be in downtown for the first time after two steps is: {first_time_downtown_after_two_steps:.4f}\")"
   ],
   "id": "f1d9dca67a00cfb3",
   "outputs": [
    {
     "name": "stdout",
     "output_type": "stream",
     "text": [
      "The probability that a truck in the suburbs will be in downtown for the first time after two steps is: 0.2200\n"
     ]
    }
   ],
   "execution_count": 2
  },
  {
   "cell_type": "code",
   "execution_count": null,
   "id": "a3b3872d",
   "metadata": {
    "deletable": false,
    "lx_assignment_number": "2",
    "lx_assignment_type": "ASSIGNMENT",
    "lx_assignment_type2print": "Assignment",
    "lx_problem_cell_type": "PROBLEM",
    "lx_problem_number": "1",
    "lx_problem_points": "8"
   },
   "outputs": [],
   "source": [
    "# Part 3\n",
    "\n",
    "# Fill in the answer to part 3 below as a boolean\n",
    "problem1_irreducible = True / False"
   ]
  },
  {
   "metadata": {},
   "cell_type": "markdown",
   "source": [
    "We can check whether this chain is irreducible by examining if it’s possible to transition between any pair of states (downtown, suburbs, countryside) within a finite number of steps.\n",
    "\n",
    "\t1.\tChecking Paths Between States:\n",
    "\t•\tFrom downtown:\n",
    "\t•\tThere’s a 30% chance of staying in downtown, a 40% chance of moving to the suburbs, and a 30% chance of moving to the countryside.\n",
    "\t•\tFrom suburbs:\n",
    "\t•\tThere’s a 20% chance of moving to downtown, a 50% chance of staying in suburbs, and a 30% chance of moving to the countryside.\n",
    "\t•\tFrom countryside:\n",
    "\t•\tThere’s a 40% chance of moving to downtown, a 30% chance of moving to the suburbs, and a 30% chance of staying in the countryside.\n",
    "\t2.\tEvaluating Reachability:\n",
    "\t•\tSince each state has a non-zero probability of transitioning to any other state in one step (directly or indirectly through another state), any state can reach any other state within a maximum of two steps.\n",
    "\t3.\tConclusion:\n",
    "\t•\tBecause each state is accessible from every other state, this Markov chain is indeed irreducible.\n",
    "\n",
    "This means that, regardless of the starting location, a truck has a chance to reach any region (downtown, suburbs, countryside) within a finite number of steps, confirming the chain’s irreducibility."
   ],
   "id": "d5f2f88d8b92cec8"
  },
  {
   "cell_type": "code",
   "execution_count": null,
   "id": "1b9d0a00",
   "metadata": {
    "deletable": false,
    "lx_assignment_number": "2",
    "lx_assignment_type": "ASSIGNMENT",
    "lx_assignment_type2print": "Assignment",
    "lx_problem_cell_type": "PROBLEM",
    "lx_problem_number": "1",
    "lx_problem_points": "8"
   },
   "outputs": [],
   "source": [
    "# Part 4\n",
    "\n",
    "# Fill in the answer to part 4 below\n",
    "# the answer should be a numpy array of length 3\n",
    "# make sure that the entries sums to 1!\n",
    "problem1_stationary = XXX"
   ]
  },
  {
   "metadata": {},
   "cell_type": "markdown",
   "source": [
    "Finding the Stationary Distribution\n",
    "\n",
    "To find the stationary distribution \\pi, we solve for \\pi such that:\n",
    "\n",
    "\t1.\t \\pi \\cdot P = \\pi  (i.e., \\pi is an eigenvector of P corresponding to the eigenvalue 1).\n",
    "\t2.\tThe components of \\pi sum to 1 (since \\pi represents a probability distribution).\n",
    "\t\n",
    "Explanation of the Code\n",
    "\n",
    "\t1.\tTranspose and Identity Matrix: We use  P^T - I  to form the equation (P^T - I) \\cdot \\pi = 0.\n",
    "\t2.\tAugmented Matrix: We add an extra equation to enforce \\pi_{downtown} + \\pi_{suburbs} + \\pi_{countryside} = 1.\n",
    "\t3.\tSolving: We solve the system to obtain the stationary distribution.\n"
   ],
   "id": "dc22366c935724de"
  },
  {
   "metadata": {
    "ExecuteTime": {
     "end_time": "2024-11-04T12:58:54.391259Z",
     "start_time": "2024-11-04T12:58:54.375404Z"
    }
   },
   "cell_type": "code",
   "source": [
    "import numpy as np\n",
    "\n",
    "# Define the transition matrix\n",
    "P = np.array([\n",
    "    [0.3, 0.4, 0.3],\n",
    "    [0.2, 0.5, 0.3],\n",
    "    [0.4, 0.3, 0.3]\n",
    "])\n",
    "\n",
    "# To find the stationary distribution, we solve (P.T - I) @ pi = 0 with the constraint sum(pi) = 1\n",
    "# This involves solving (P.T - I) @ pi = 0 along with the condition pi.sum() = 1\n",
    "# Subtract the identity matrix from P.T (transpose of P) to set up the equation (P.T - I) @ pi = 0\n",
    "P_transpose = P.T\n",
    "I = np.eye(3)\n",
    "A = P_transpose - I\n",
    "\n",
    "# Augment with an additional row to ensure pi.sum() = 1\n",
    "A = np.vstack([A, np.ones(3)])\n",
    "b = np.array([0, 0, 0, 1])\n",
    "\n",
    "# Solve the system of equations\n",
    "pi = np.linalg.lstsq(A, b, rcond=None)[0]\n",
    "\n",
    "print(f\"Stationary distribution: Downtown: {pi[0]:.4f}, Suburbs: {pi[1]:.4f}, Countryside: {pi[2]:.4f}\")"
   ],
   "id": "9f1012f2ee6602de",
   "outputs": [
    {
     "name": "stdout",
     "output_type": "stream",
     "text": [
      "Stationary distribution: Downtown: 0.2889, Suburbs: 0.4111, Countryside: 0.3000\n"
     ]
    }
   ],
   "execution_count": 3
  },
  {
   "metadata": {
    "ExecuteTime": {
     "end_time": "2024-11-04T13:06:17.035945Z",
     "start_time": "2024-11-04T13:06:17.028336Z"
    }
   },
   "cell_type": "code",
   "source": "pi\n",
   "id": "17f52948476505fb",
   "outputs": [
    {
     "data": {
      "text/plain": [
       "array([0.28888889, 0.41111111, 0.3       ])"
      ]
     },
     "execution_count": 8,
     "metadata": {},
     "output_type": "execute_result"
    }
   ],
   "execution_count": 8
  },
  {
   "cell_type": "code",
   "execution_count": null,
   "id": "481625e3",
   "metadata": {
    "deletable": false,
    "lx_assignment_number": "2",
    "lx_assignment_type": "ASSIGNMENT",
    "lx_assignment_type2print": "Assignment",
    "lx_problem_cell_type": "PROBLEM",
    "lx_problem_number": "1",
    "lx_problem_points": "8"
   },
   "outputs": [],
   "source": [
    "# Part 5\n",
    "\n",
    "# Fill in the answer to part 5 below\n",
    "# That is, the expected number of steps as a decimal number\n",
    "problem1_ET = XXX"
   ]
  },
  {
   "metadata": {},
   "cell_type": "markdown",
   "source": [
    "Expected First-Passage Time Explanation\n",
    "\n",
    "The expected first-passage time,  E(i \\to j) , from a starting state i to a target state j is the average number of steps required to reach j for the first time, starting from i. In this problem, we want  E(\\text{suburbs} \\to \\text{downtown}) .\n",
    "\n",
    "Approach to Solving\n",
    "\n",
    "We’ll denote the regions by indices:\n",
    "\n",
    "\t•\tDowntown: 0\n",
    "\t•\tSuburbs: 1\n",
    "\t•\tCountryside: 2\n",
    "\n",
    "We define  E_{suburbs}  as the expected number of steps to reach downtown starting from the suburbs, and  E_{countryside}  as the expected number of steps to reach downtown starting from the countryside. The expected number of steps to reach downtown if already in downtown is, by definition, zero:  E_{downtown} = 0 .\n",
    "\n",
    "Setting Up Equations\n",
    "\n",
    "Using the law of total expectation, we can set up equations for  E_{suburbs}  and  E_{countryside} :\n",
    "\n",
    "\t1.\tFrom suburbs:\n",
    "\t•\tIf the truck is in suburbs, it can:\n",
    "\t•\tStay in suburbs with probability 0.5, taking one step plus an additional  E_{suburbs}  steps on average to reach downtown.\n",
    "\t•\tMove to downtown with probability 0.2, reaching downtown in just one step.\n",
    "\t•\tMove to countryside with probability 0.3, taking one step plus  E_{countryside}  additional steps on average to reach downtown.\n",
    "This gives us:\n",
    "\n",
    "E_{suburbs} = 1 + 0.5 \\cdot E_{suburbs} + 0.2 \\cdot 0 + 0.3 \\cdot E_{countryside}\n",
    "\n",
    "\t2.\tFrom countryside:\n",
    "\t•\tIf the truck is in the countryside, it can:\n",
    "\t•\tMove to downtown with probability 0.4, reaching downtown in one step.\n",
    "\t•\tMove to suburbs with probability 0.3, taking one step plus  E_{suburbs}  additional steps on average to reach downtown.\n",
    "\t•\tStay in countryside with probability 0.3, taking one step plus  E_{countryside}  additional steps on average to reach downtown.\n",
    "This gives us:\n",
    "\n",
    "E_{countryside} = 1 + 0.4 \\cdot 0 + 0.3 \\cdot E_{suburbs} + 0.3 \\cdot E_{countryside}\n",
    "\n",
    "\n",
    "Solving the System of Equations\n",
    "\n",
    "Now, we have two linear equations:\n",
    "\n",
    "E_{suburbs} = 1 + 0.5 \\cdot E_{suburbs} + 0.3 \\cdot E_{countryside}\n",
    "\n",
    "\n",
    "E_{countryside} = 1 + 0.3 \\cdot E_{suburbs} + 0.3 \\cdot E_{countryside}\n",
    "\n",
    "\n",
    "We can rearrange these equations to solve for  E_{suburbs}  and  E_{countryside} ."
   ],
   "id": "1664011758b85822"
  },
  {
   "metadata": {
    "ExecuteTime": {
     "end_time": "2024-11-04T13:03:53.612712Z",
     "start_time": "2024-11-04T13:03:53.605906Z"
    }
   },
   "cell_type": "code",
   "source": [
    "import numpy as np\n",
    "\n",
    "# Define the coefficients matrix and the constants vector\n",
    "A = np.array([\n",
    "    [1 - 0.5, -0.3],\n",
    "    [-0.3, 1 - 0.3]\n",
    "])\n",
    "b = np.array([1, 1])\n",
    "\n",
    "# Solve for E_suburbs and E_countryside\n",
    "E_values = np.linalg.solve(A, b)\n",
    "E_suburbs, E_countryside = E_values\n",
    "\n",
    "print(f\"Expected number of steps to first reach downtown from suburbs: {E_suburbs:.4f}\")"
   ],
   "id": "d9bde775f9e15325",
   "outputs": [
    {
     "name": "stdout",
     "output_type": "stream",
     "text": [
      "Expected number of steps to first reach downtown from suburbs: 3.8462\n"
     ]
    }
   ],
   "execution_count": 4
  },
  {
   "metadata": {
    "ExecuteTime": {
     "end_time": "2024-11-04T13:10:30.964170Z",
     "start_time": "2024-11-04T13:10:30.959975Z"
    }
   },
   "cell_type": "code",
   "source": [
    "import numpy as np\n",
    "\n",
    "# Define the transition matrix\n",
    "P = np.array([\n",
    "    [0.3, 0.4, 0.3],\n",
    "    [0.2, 0.5, 0.3],\n",
    "    [0.4, 0.3, 0.3]\n",
    "])\n",
    "\n",
    "# Initial state in the suburbs\n",
    "initial_state = np.array([0, 1, 0])  # Start in suburbs\n",
    "\n",
    "# Set the maximum number of steps to compute probabilities\n",
    "max_steps = 30\n",
    "expected_steps = 0\n",
    "\n",
    "# Compute the probabilities for each step up to max_steps\n",
    "current_state = initial_state\n",
    "for step in range(1, max_steps + 1):\n",
    "    # Move to the next step\n",
    "    current_state = current_state @ P\n",
    "\n",
    "    # Probability of first hitting downtown at this step\n",
    "    prob_hit_downtown = current_state[0]\n",
    "\n",
    "    # Add the contribution of this step to the expected value\n",
    "    expected_steps += step * prob_hit_downtown\n",
    "\n",
    "    # Set probability of being in downtown to 0 for future steps\n",
    "    current_state[0] = 0\n",
    "\n",
    "print(f\"Expected number of steps to first reach downtown from suburbs: {expected_steps:.4f}\")"
   ],
   "id": "c5e4a817675ea7ec",
   "outputs": [
    {
     "name": "stdout",
     "output_type": "stream",
     "text": [
      "Expected number of steps to first reach downtown from suburbs: 3.8445\n"
     ]
    }
   ],
   "execution_count": 24
  },
  {
   "cell_type": "markdown",
   "id": "215a4c8b",
   "metadata": {
    "deletable": false,
    "lx_assignment_number": "2",
    "lx_assignment_type": "ASSIGNMENT",
    "lx_assignment_type2print": "Assignment",
    "lx_problem_cell_type": "PROBLEM",
    "lx_problem_number": "2",
    "lx_problem_points": "4"
   },
   "source": [
    "---\n",
    "## Assignment 2, PROBLEM 2\n",
    "Maximum Points = 4"
   ]
  },
  {
   "cell_type": "markdown",
   "id": "d9a825d1",
   "metadata": {
    "deletable": false,
    "lx_assignment_number": "2",
    "lx_assignment_type": "ASSIGNMENT",
    "lx_assignment_type2print": "Assignment",
    "lx_problem_cell_type": "PROBLEM",
    "lx_problem_number": "2",
    "lx_problem_points": "4"
   },
   "source": [
    "\n",
    "Use the **Multi-dimensional Constrained Optimisation** example (in `07-Optimization.ipynb`) to numerically find the MLe for the mean and variance parameter based on `normallySimulatedDataSamples`, an array obtained by a specific simulation of $30$ IID samples from the $Normal(10,2)$ random variable.\n",
    "\n",
    "Recall that $Normal(\\mu, \\sigma^2)$ RV has the probability density function given by:\n",
    "\n",
    "$$\n",
    "f(x ;\\mu, \\sigma) = \\displaystyle\\frac{1}{\\sigma\\sqrt{2\\pi}}\\exp\\left(\\frac{-1}{2\\sigma^2}(x-\\mu)^2\\right)\n",
    "$$\n",
    "\n",
    "The two parameters, $\\mu \\in \\mathbb{R} := (-\\infty,\\infty)$ and $\\sigma \\in (0,\\infty)$, are sometimes referred to as the location and scale parameters.\n",
    "\n",
    "You know that the log likelihood function for $n$ IID samples from a Normal RV with parameters $\\mu$ and $\\sigma$ simply follows from $\\sum_{i=1}^n \\log(f(x_i; \\mu,\\sigma))$, based on the IID assumption. \n",
    "\n",
    "NOTE: When setting bounding boxes for $\\mu$ and $\\sigma$ try to start with some guesses like $[-20,20]$ and $[0.1,5.0]$ and make it larger if the solution is at the boundary. Making the left bounding-point for $\\sigma$ too close to $0.0$ will cause division by zero Warnings. Other numerical instabilities can happen in such iterative numerical solutions to the MLe. You need to be patient and learn by trial-and-error. You will see the mathematical theory in more details in a future course in scientific computing/optimisation. So don't worry too much now except learning to use it for our problems.  "
   ]
  },
  {
   "cell_type": "code",
   "id": "699b52ca",
   "metadata": {
    "deletable": false,
    "lx_assignment_number": "2",
    "lx_assignment_type": "ASSIGNMENT",
    "lx_assignment_type2print": "Assignment",
    "lx_problem_cell_type": "PROBLEM",
    "lx_problem_number": "2",
    "lx_problem_points": "4",
    "ExecuteTime": {
     "end_time": "2025-01-02T14:43:41.352426Z",
     "start_time": "2025-01-02T14:43:41.064939Z"
    }
   },
   "source": [
    "\n",
    "import numpy as np\n",
    "from scipy import optimize\n",
    "\n",
    "# do NOT change the next three lines\n",
    "np.random.seed(123456)  # set seed\n",
    "# simulate 30 IID samples drawn from Normal(10,2)RV\n",
    "normallySimulatedDataSamples = np.random.normal(10, 2, 30)\n",
    "\n",
    "\n",
    "# define the negative log likelihoo function you want to minimise by editing XXX\n",
    "def negLogLklOfIIDNormalSamples(parameters):\n",
    "    '''return the -log(likelihood) of normallySimulatedDataSamples with mean and var parameters'''\n",
    "    mu_param = parameters[0]\n",
    "    sigma_param = parameters[1]\n",
    "\n",
    "    n = len(normallySimulatedDataSamples)\n",
    "\n",
    "    # Calculate the negative log-likelihood\n",
    "    neg_log_likelihood = (n / 2) * np.log(2 * np.pi) + n * np.log(sigma_param) + (1 / (2 * sigma_param ** 2)) * np.sum(\n",
    "        (normallySimulatedDataSamples - mu_param) ** 2)\n",
    "\n",
    "    return neg_log_likelihood\n",
    "\n",
    "\n",
    "# you should only change XXX below and not anything else\n",
    "parameter_bounding_box = (\n",
    "    (-50, 50), (1e-3, 10))  # specify the constraints for each parameter - some guess work...\n",
    "initial_arguments = np.array([10, 2])  # point in 2D to initialise the minimize algorithm\n",
    "result_problem2_opt = optimize.minimize(negLogLklOfIIDNormalSamples, initial_arguments, bounds=parameter_bounding_box)\n",
    "# call the minimize method above finally! you need to play a bit to get initial conditions and bounding box ok\n",
    "result_problem2_opt\n"
   ],
   "outputs": [
    {
     "data": {
      "text/plain": [
       "  message: CONVERGENCE: NORM_OF_PROJECTED_GRADIENT_<=_PGTOL\n",
       "  success: True\n",
       "   status: 0\n",
       "      fun: 58.63138728236724\n",
       "        x: [ 9.269e+00  1.708e+00]\n",
       "      nit: 5\n",
       "      jac: [-1.421e-06  2.132e-06]\n",
       "     nfev: 27\n",
       "     njev: 9\n",
       " hess_inv: <2x2 LbfgsInvHessProduct with dtype=float64>"
      ]
     },
     "execution_count": 1,
     "metadata": {},
     "output_type": "execute_result"
    }
   ],
   "execution_count": 1
  },
  {
   "cell_type": "markdown",
   "id": "f722d247",
   "metadata": {
    "deletable": false,
    "lx_assignment_number": "2",
    "lx_assignment_type": "ASSIGNMENT",
    "lx_assignment_type2print": "Assignment",
    "lx_problem_cell_type": "PROBLEM",
    "lx_problem_number": "3",
    "lx_problem_points": "4"
   },
   "source": [
    "---\n",
    "## Assignment 2, PROBLEM 3\n",
    "Maximum Points = 4"
   ]
  },
  {
   "cell_type": "markdown",
   "id": "0b9c787c",
   "metadata": {
    "deletable": false,
    "lx_assignment_number": "2",
    "lx_assignment_type": "ASSIGNMENT",
    "lx_assignment_type2print": "Assignment",
    "lx_problem_cell_type": "PROBLEM",
    "lx_problem_number": "3",
    "lx_problem_points": "4"
   },
   "source": [
    "\n",
    "\n",
    "Derive the maximum likelihood estimate for $n$ IID samples from a random variable with the following probability density function:\n",
    "$$\n",
    "f(x; \\lambda) = \\frac{1}{24} \\lambda^5 x^4 \\exp(-\\lambda x), \\qquad \\text{ where, } \\lambda>0, x > 0\n",
    "$$\n",
    "\n",
    "You can solve the MLe by hand (using pencil paper or using key-strokes). Present your solution as the return value of a function called `def MLeForAssignment2Problem3(x)`, where `x` is a list of $n$ input data points."
   ]
  },
  {
   "cell_type": "code",
   "id": "41720f28",
   "metadata": {
    "deletable": false,
    "lx_assignment_number": "2",
    "lx_assignment_type": "ASSIGNMENT",
    "lx_assignment_type2print": "Assignment",
    "lx_problem_cell_type": "PROBLEM",
    "lx_problem_number": "3",
    "lx_problem_points": "4",
    "ExecuteTime": {
     "end_time": "2024-11-04T13:15:24.546980Z",
     "start_time": "2024-11-04T13:15:24.541898Z"
    }
   },
   "source": [
    "\n",
    "# do not change the name of the function, just replace XXX with the appropriate expressions for the MLe\n",
    "def MLeForAssignment2Problem3(x):\n",
    "    # Calculate the number of samples\n",
    "    n = len(x)\n",
    "\n",
    "    # Calculate the sum of the samples\n",
    "    sum_x = sum(x)\n",
    "\n",
    "    # Calculate the MLE for lambda\n",
    "    lambda_mle = (5 * n) / sum_x\n",
    "    return lambda_mle"
   ],
   "outputs": [],
   "execution_count": 26
  },
  {
   "cell_type": "markdown",
   "id": "85367892",
   "metadata": {
    "deletable": false,
    "lx_assignment_number": "2",
    "lx_assignment_type": "ASSIGNMENT",
    "lx_assignment_type2print": "Assignment",
    "lx_problem_cell_type": "PROBLEM",
    "lx_problem_number": "4",
    "lx_problem_points": "8"
   },
   "source": [
    "---\n",
    "## Assignment 2, PROBLEM 4\n",
    "Maximum Points = 8"
   ]
  },
  {
   "cell_type": "markdown",
   "id": "2e67892b",
   "metadata": {
    "deletable": false,
    "lx_assignment_number": "2",
    "lx_assignment_type": "ASSIGNMENT",
    "lx_assignment_type2print": "Assignment",
    "lx_problem_cell_type": "PROBLEM",
    "lx_problem_number": "4",
    "lx_problem_points": "8"
   },
   "source": [
    "\n",
    "## Random variable generation and transformation\n",
    "\n",
    "The purpose of this problem is to show that you can implement your own sampler, this will be built in the following three steps:\n",
    "\n",
    "1. [2p] Implement a Linear Congruential Generator where you tested out a good combination (a large $M$ with $a,b$ satisfying the Hull-Dobell (Thm 6.8)) of parameters. Follow the instructions in the code block.\n",
    "2. [2p] Using a generator construct random numbers from the uniform $[0,1]$ distribution.\n",
    "3. [4p] Using a uniform $[0,1]$ random generator, generate samples from \n",
    "\n",
    "$$p_0(x) = \\frac{\\pi}{2}|\\sin(2\\pi x)|, \\quad x \\in [0,1] \\enspace .$$\n",
    "\n",
    "Using the **Accept-Reject** sampler (**Algorithm 1** in TFDS notes) with sampling density given by the uniform $[0,1]$ distribution."
   ]
  },
  {
   "cell_type": "code",
   "id": "530446bc",
   "metadata": {
    "deletable": false,
    "lx_assignment_number": "2",
    "lx_assignment_type": "ASSIGNMENT",
    "lx_assignment_type2print": "Assignment",
    "lx_problem_cell_type": "PROBLEM",
    "lx_problem_number": "4",
    "lx_problem_points": "8",
    "ExecuteTime": {
     "end_time": "2025-01-02T16:05:19.901574Z",
     "start_time": "2025-01-02T16:05:19.899017Z"
    }
   },
   "source": [
    "def problem4_LCG(size=None, seed=0):\n",
    "    \"\"\"\n",
    "    A linear congruential generator that generates pseudo random numbers according to size.\n",
    "    \n",
    "    Parameters\n",
    "    -------------\n",
    "    size : an integer denoting how many samples should be produced\n",
    "    seed : the starting point of the LCG, i.e. u0 in the notes.\n",
    "    \n",
    "    Returns\n",
    "    -------------\n",
    "    out : a list of the pseudo random numbers\n",
    "    \"\"\"\n",
    "\n",
    "    M = 2 ** 27 - 1  # a large prime number\n",
    "    a = 1607  # multiplier\n",
    "    b = 25  # increment\n",
    "\n",
    "    # Initialize the output list and set the first value\n",
    "    out = []\n",
    "    X_n = seed\n",
    "\n",
    "    for _ in range(size):\n",
    "        X_n = (a * X_n + b) % M  # Update the state\n",
    "        out.append(X_n)  # Normalize to get a number in [0, 1)\n",
    "\n",
    "    return out"
   ],
   "outputs": [],
   "execution_count": 3
  },
  {
   "cell_type": "code",
   "id": "8d215c5a",
   "metadata": {
    "deletable": false,
    "lx_assignment_number": "2",
    "lx_assignment_type": "ASSIGNMENT",
    "lx_assignment_type2print": "Assignment",
    "lx_problem_cell_type": "PROBLEM",
    "lx_problem_number": "4",
    "lx_problem_points": "8",
    "ExecuteTime": {
     "end_time": "2025-01-02T16:05:20.480549Z",
     "start_time": "2025-01-02T16:05:20.478177Z"
    }
   },
   "source": [
    "\n",
    "def problem4_uniform(generator=None, period=1, size=None, seed=0):\n",
    "    \"\"\"\n",
    "    Takes a generator and produces samples from the uniform [0,1] distribution according\n",
    "    to size.\n",
    "    \n",
    "    Parameters\n",
    "    -------------\n",
    "    generator : a function of type generator(size,seed) and produces the same result as problem1_LCG, i.e. pseudo random numbers in the range {0,1,...,period-1}\n",
    "    period : the period of the generator\n",
    "    seed : the seed to be used in the generator provided\n",
    "    size : an integer denoting how many samples should be produced\n",
    "    \n",
    "    Returns\n",
    "    --------------\n",
    "    out : a list of the uniform pseudo random numbers\n",
    "    \"\"\"\n",
    "\n",
    "    rn = generator(size, seed)\n",
    "    rn = [i / (period - 1) for i in rn]\n",
    "    return rn"
   ],
   "outputs": [],
   "execution_count": 4
  },
  {
   "cell_type": "code",
   "id": "15832284",
   "metadata": {
    "deletable": false,
    "lx_assignment_number": "2",
    "lx_assignment_type": "ASSIGNMENT",
    "lx_assignment_type2print": "Assignment",
    "lx_problem_cell_type": "PROBLEM",
    "lx_problem_number": "4",
    "lx_problem_points": "8",
    "ExecuteTime": {
     "end_time": "2025-01-02T16:05:21.134902Z",
     "start_time": "2025-01-02T16:05:21.132003Z"
    }
   },
   "source": [
    "\n",
    "import math\n",
    "\n",
    "\n",
    "def problem4_accept_reject(uniformGenerator=None, n_iterations=None, seed=0):\n",
    "    \"\"\"\n",
    "    Takes a generator that produces uniform pseudo random [0,1] numbers \n",
    "    and produces samples from (pi/2)*abs(sin(x*2*pi)) using an Accept-Reject\n",
    "    sampler with the uniform distribution as the proposal distribution.\n",
    "    Runs n_iterations\n",
    "    \n",
    "    Parameters\n",
    "    -------------\n",
    "    generator : a function of the type generator(size,seed) that produces uniform pseudo random\n",
    "    numbers from [0,1]\n",
    "    seed : the seed to be used in the generator provided\n",
    "    n_iterations : an integer denoting how many attempts should be made in the accept-reject sampler\n",
    "    \n",
    "    Returns\n",
    "    --------------\n",
    "    out : a list of the pseudo random numbers with the specified distribution\n",
    "    \"\"\"\n",
    "    M = 10000\n",
    "    \n",
    "    sample = uniformGenerator(n_iterations, seed)\n",
    "    samples = []\n",
    "    for i in range(n_iterations):\n",
    "        x = sample[i]\n",
    "        r = (math.pi / 2) * abs(math.sin(x * 2 * math.pi))\n",
    "        r = r / (M * sample[i])\n",
    "\n",
    "        U = uniformGenerator(1, seed)[0]\n",
    "        if U <= r:\n",
    "            samples.append(x)\n",
    "    return samples"
   ],
   "outputs": [],
   "execution_count": 5
  },
  {
   "cell_type": "markdown",
   "id": "8dbf40a0",
   "metadata": {
    "deletable": false,
    "lx_assignment_number": "2",
    "lx_assignment_type": "ASSIGNMENT",
    "lx_assignment_type2print": "Assignment",
    "lx_problem_cell_type": "Test",
    "lx_problem_number": "4",
    "lx_problem_points": "8"
   },
   "source": [
    "---\n",
    "#### Local Test for Assignment 2, PROBLEM 4\n",
    "Evaluate cell below to make sure your answer is valid.                             You **should not** modify anything in the cell below when evaluating it to do a local test of                             your solution.\n",
    "You may need to include and evaluate code snippets from lecture notebooks in cells above to make the local test work correctly sometimes (see error messages for clues). This is meant to help you become efficient at recalling materials covered in lectures that relate to this problem. Such local tests will generally not be available in the exam."
   ]
  },
  {
   "cell_type": "code",
   "id": "26cd1592",
   "metadata": {
    "deletable": false,
    "lx_assignment_number": "2",
    "lx_assignment_type": "ASSIGNMENT",
    "lx_assignment_type2print": "Assignment",
    "lx_problem_cell_type": "Test",
    "lx_problem_number": "4",
    "lx_problem_points": "8",
    "ExecuteTime": {
     "end_time": "2025-01-02T16:05:25.413321Z",
     "start_time": "2025-01-02T16:05:25.410012Z"
    }
   },
   "source": [
    "\n",
    "# If you managed to solve all three parts you can test the following code to see if it runs\n",
    "# you have to change the period to match your LCG though, this is marked as XXX.\n",
    "# It is a very good idea to check these things using the histogram function in sagemath\n",
    "# try with a larger number of samples, up to 10000 should run\n",
    "\n",
    "print(\"LCG output: %s\" % problem4_LCG(size=10, seed=1))\n",
    "\n",
    "period = 2 ** 27 - 1\n",
    "\n",
    "print(\"Uniform sampler %s\" % problem4_uniform(generator=problem4_LCG, period=period, size=10, seed=1))\n",
    "\n",
    "uniform_sampler = lambda size, seed: problem4_uniform(generator=problem4_LCG, period=period, size=size, seed=seed)\n",
    "\n",
    "print(\"Accept-Reject sampler %s\" % problem4_accept_reject(uniformGenerator=uniform_sampler, n_iterations=20, seed=1))"
   ],
   "outputs": [
    {
     "name": "stdout",
     "output_type": "stream",
     "text": [
      "LCG output: [1632, 2622649, 53847431, 96605454, 89272191, 115878526, 56803958, 15906171, 59848692, 76955537]\n",
      "Uniform sampler [1.2159347715368089e-05, 0.019540258043114215, 0.40119463058106053, 0.7197667318547775, 0.6651296640206823, 0.8633623102808343, 0.4232224736097824, 0.11851021078989224, 0.44590751001101003, 0.5733634393418348]\n",
      "Accept-Reject sampler [1.2159347715368089e-05, 0.019540258043114215, 0.40119463058106053, 0.7197667318547775, 0.6651296640206823, 0.8633623102808343, 0.4232224736097824, 0.11851021078989224, 0.44590751001101003, 0.5733634393418348, 0.3950403466081671, 0.8298324619208644, 0.5407565614693844, 0.23130500661291192, 0.7071430490485288, 0.3788715433906249, 0.8465658850456161, 0.43136732177983705, 0.20728112321020847]\n"
     ]
    }
   ],
   "execution_count": 6
  },
  {
   "cell_type": "code",
   "id": "5318f370",
   "metadata": {
    "deletable": false,
    "lx_assignment_number": "2",
    "lx_assignment_type": "ASSIGNMENT",
    "lx_assignment_type2print": "Assignment",
    "lx_problem_cell_type": "Test",
    "lx_problem_number": "4",
    "lx_problem_points": "8",
    "ExecuteTime": {
     "end_time": "2024-11-05T20:32:19.198359Z",
     "start_time": "2024-11-05T20:32:19.191299Z"
    }
   },
   "source": [
    "\n",
    "# If however you did not manage to implement either part 1 or part 2 but still want to check part 3, you can run the code below\n",
    "\n",
    "def testUniformGenerator(size, seed):\n",
    "    import random\n",
    "    random.seed(seed)\n",
    "\n",
    "    return [random.uniform(0, 1) for s in range(size)]\n",
    "\n",
    "\n",
    "print(\n",
    "    \"Accept-Reject sampler %s\" % problem4_accept_reject(uniformGenerator=testUniformGenerator, n_iterations=20, seed=1))"
   ],
   "outputs": [
    {
     "name": "stdout",
     "output_type": "stream",
     "text": [
      "Accept-Reject sampler []\n"
     ]
    }
   ],
   "execution_count": 65
  }
 ],
 "metadata": {
  "lx_assignment_number": 2,
  "lx_course_instance": "2024",
  "lx_course_name": "Introduction to Data Science",
  "lx_course_number": "1MS041",
  "kernelspec": {
   "name": "python3",
   "language": "python",
   "display_name": "Python 3 (ipykernel)"
  }
 },
 "nbformat": 4,
 "nbformat_minor": 5
}
