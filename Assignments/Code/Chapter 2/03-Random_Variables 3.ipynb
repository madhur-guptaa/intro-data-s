{
 "cells": [
  {
   "cell_type": "markdown",
   "id": "b8764431",
   "metadata": {
    "deletable": false
   },
   "source": [
    "# [Introduction to Data Science](http://datascience-intro.github.io/1MS041-2024/)    \n",
    "## 1MS041, 2024 \n",
    "&copy;2024 Raazesh Sainudiin, Benny Avelin. [Attribution 4.0 International     (CC BY 4.0)](https://creativecommons.org/licenses/by/4.0/)"
   ]
  },
  {
   "cell_type": "markdown",
   "id": "f640a563",
   "metadata": {},
   "source": [
    "## Second notebook on Random variables\n",
    "\n",
    "Lets take a look again at the spam dataset and look at our concepts there"
   ]
  },
  {
   "cell_type": "code",
   "id": "46083ad3",
   "metadata": {
    "ExecuteTime": {
     "end_time": "2024-11-25T20:40:01.022407Z",
     "start_time": "2024-11-25T20:40:01.009113Z"
    }
   },
   "source": [
    "from Utils import load_sms, emfToEdf\n",
    "\n",
    "sms_data = load_sms()\n",
    "# sms_data[:5]\n",
    "sms_data[1169]"
   ],
   "outputs": [
    {
     "data": {
      "text/plain": [
       "('Msgs r not time pass.They silently say that I am thinking of U right now and also making U think of me at least 4 a moment. Gd nt.swt drms @Shesil',\n",
       " 0)"
      ]
     },
     "execution_count": 3,
     "metadata": {},
     "output_type": "execute_result"
    }
   ],
   "execution_count": 3
  },
  {
   "cell_type": "markdown",
   "id": "bb119585",
   "metadata": {},
   "source": [
    "Let X represents each SMS text (an entry in the list), and let $Y$ represent whether text is spam or not i.e. $Y \\in \\{0,1\\}$. Thus $\\mathbb{P}(Y = 1)$ is the probability that we get a spam. The goal is to estimate:\n",
    "$$\n",
    "    \\mathbb{P}(Y = 1 | \\text{\"free\" or \"prize\" is in } X) \\enspace .\n",
    "$$\n",
    "That is, the probability that the SMS is spam given that \"free\" or \"prize\" occurs in the SMS. \n",
    "Hint: it is good to remove the upper/lower case of words so that we can also find \"Free\" and \"Prize\"; this can be done with `text.lower()` if `text` a string.\n",
    "\n",
    "To do this we can create a new random variable $Z$ which is $1$ if \"free\" or \"prize\" appears in $X$."
   ]
  },
  {
   "cell_type": "code",
   "id": "074bd546",
   "metadata": {
    "ExecuteTime": {
     "end_time": "2024-09-21T17:02:58.697047Z",
     "start_time": "2024-09-21T17:02:58.678315Z"
    }
   },
   "source": [
    "interesting_words = set(['free', 'prize'])\n",
    "TF10 = {True: 1, False: 0}\n",
    "Z_obs = [TF10[not interesting_words.isdisjoint([word.lower() for word in line[0].split(' ')])] for line in sms_data]"
   ],
   "outputs": [],
   "execution_count": 4
  },
  {
   "cell_type": "code",
   "id": "2d83f9a2",
   "metadata": {
    "ExecuteTime": {
     "end_time": "2024-09-21T17:03:01.476023Z",
     "start_time": "2024-09-21T17:03:01.472718Z"
    }
   },
   "source": [
    "Z_obs[:10]"
   ],
   "outputs": [
    {
     "data": {
      "text/plain": [
       "[0, 0, 1, 0, 0, 0, 0, 0, 1, 1]"
      ]
     },
     "execution_count": 5,
     "metadata": {},
     "output_type": "execute_result"
    }
   ],
   "execution_count": 5
  },
  {
   "cell_type": "code",
   "id": "3bb642e5",
   "metadata": {
    "ExecuteTime": {
     "end_time": "2024-09-21T17:03:02.906021Z",
     "start_time": "2024-09-21T17:03:02.902290Z"
    }
   },
   "source": [
    "Y_obs = [y for x, y in sms_data]\n",
    "Y_obs[:10]"
   ],
   "outputs": [
    {
     "data": {
      "text/plain": [
       "[0, 0, 1, 0, 0, 1, 0, 0, 1, 1]"
      ]
     },
     "execution_count": 6,
     "metadata": {},
     "output_type": "execute_result"
    }
   ],
   "execution_count": 6
  },
  {
   "cell_type": "code",
   "id": "40e64960",
   "metadata": {
    "ExecuteTime": {
     "end_time": "2024-09-21T17:03:14.515693Z",
     "start_time": "2024-09-21T17:03:14.394986Z"
    }
   },
   "source": [
    "import numpy as np\n",
    "\n",
    "\n",
    "def F_X_12(x):\n",
    "    TF10 = {True: 1, False: 0}\n",
    "    return np.mean([TF10[(y <= x[0]) and (z <= x[1])] for y, z in zip(Y_obs, Z_obs)])"
   ],
   "outputs": [],
   "execution_count": 7
  },
  {
   "cell_type": "code",
   "id": "e6f92c71",
   "metadata": {
    "ExecuteTime": {
     "end_time": "2024-09-21T17:03:17.583789Z",
     "start_time": "2024-09-21T17:03:17.580201Z"
    }
   },
   "source": "F_X_12([1, 0])",
   "outputs": [
    {
     "data": {
      "text/plain": [
       "0.9551328068916008"
      ]
     },
     "execution_count": 8,
     "metadata": {},
     "output_type": "execute_result"
    }
   ],
   "execution_count": 8
  },
  {
   "cell_type": "markdown",
   "id": "408ae961",
   "metadata": {},
   "source": [
    "This is the JDF for this problem"
   ]
  },
  {
   "cell_type": "code",
   "id": "b856ee1e",
   "metadata": {
    "ExecuteTime": {
     "end_time": "2024-09-21T17:03:20.520397Z",
     "start_time": "2024-09-21T17:03:20.513500Z"
    }
   },
   "source": [
    "print(\"\\tz <= 0 \\t\\tz <= 1\")\n",
    "for x1 in range(0, 2):\n",
    "    print(\"y <= %d \\t\" % x1, end='')\n",
    "    for x2 in range(0, 2):\n",
    "        print(\"%.2f\" % (F_X_12((x1, x2))), end='\\t\\t')\n",
    "    print('\\n')"
   ],
   "outputs": [
    {
     "name": "stdout",
     "output_type": "stream",
     "text": [
      "\tz <= 0 \t\tz <= 1\n",
      "y <= 0 \t0.86\t\t0.87\t\t\n",
      "\n",
      "y <= 1 \t0.96\t\t1.00\t\t\n",
      "\n"
     ]
    }
   ],
   "execution_count": 9
  },
  {
   "cell_type": "code",
   "id": "2f9f28e4",
   "metadata": {
    "ExecuteTime": {
     "end_time": "2024-09-21T17:03:26.284230Z",
     "start_time": "2024-09-21T17:03:26.279061Z"
    }
   },
   "source": "F_X_12((1, 0))",
   "outputs": [
    {
     "data": {
      "text/plain": [
       "0.9551328068916008"
      ]
     },
     "execution_count": 10,
     "metadata": {},
     "output_type": "execute_result"
    }
   ],
   "execution_count": 10
  },
  {
   "cell_type": "code",
   "id": "0992b566",
   "metadata": {
    "ExecuteTime": {
     "end_time": "2024-09-21T17:03:27.249649Z",
     "start_time": "2024-09-21T17:03:27.244245Z"
    }
   },
   "source": "F_X_12((0, 0)) == F_X_12((0, 1)) * F_X_12((1, 0))",
   "outputs": [
    {
     "data": {
      "text/plain": [
       "False"
      ]
     },
     "execution_count": 11,
     "metadata": {},
     "output_type": "execute_result"
    }
   ],
   "execution_count": 11
  },
  {
   "cell_type": "code",
   "id": "236c531b",
   "metadata": {
    "ExecuteTime": {
     "end_time": "2024-09-21T17:03:30.568335Z",
     "start_time": "2024-09-21T17:03:30.562427Z"
    }
   },
   "source": "F_X_12((0, 1)) * F_X_12((1, 0))",
   "outputs": [
    {
     "data": {
      "text/plain": [
       "0.8270846721557743"
      ]
     },
     "execution_count": 12,
     "metadata": {},
     "output_type": "execute_result"
    }
   ],
   "execution_count": 12
  },
  {
   "cell_type": "code",
   "id": "d6246c1e",
   "metadata": {
    "ExecuteTime": {
     "end_time": "2024-09-21T17:03:32.872418Z",
     "start_time": "2024-09-21T17:03:32.868786Z"
    }
   },
   "source": [
    "# Are they indepdentent? If so, then the JDF is just the product of the \n",
    "# DFs for Y and Z, but\n",
    "0.865936826992103 * 0.955132806891601"
   ],
   "outputs": [
    {
     "data": {
      "text/plain": [
       "0.827084672155774"
      ]
     },
     "execution_count": 13,
     "metadata": {},
     "output_type": "execute_result"
    }
   ],
   "execution_count": 13
  },
  {
   "cell_type": "markdown",
   "id": "d942a608",
   "metadata": {},
   "source": [
    "Which is not 0.858, so they are not independent. So lets try to estimate the probability that $Y=1$ given that $Z = 1$. Lets again do that by filtering"
   ]
  },
  {
   "cell_type": "code",
   "id": "98afc79d",
   "metadata": {
    "ExecuteTime": {
     "end_time": "2024-09-21T17:03:43.083227Z",
     "start_time": "2024-09-21T17:03:43.080140Z"
    }
   },
   "source": "np.mean([y for z, y in zip(Z_obs, Y_obs) if z == 1])",
   "outputs": [
    {
     "data": {
      "text/plain": [
       "0.812"
      ]
     },
     "execution_count": 14,
     "metadata": {},
     "output_type": "execute_result"
    }
   ],
   "execution_count": 14
  },
  {
   "cell_type": "markdown",
   "id": "79731699",
   "metadata": {},
   "source": [
    "Compare that with the marginal probability of $Y = 1$, which is according to our JDF 1-0.866 = 0.134"
   ]
  },
  {
   "cell_type": "code",
   "id": "7fb6c482",
   "metadata": {
    "ExecuteTime": {
     "end_time": "2024-09-21T17:03:46.670569Z",
     "start_time": "2024-09-21T17:03:46.667189Z"
    }
   },
   "source": [
    "# Or we can just compute it directly\n",
    "np.mean(Y_obs)"
   ],
   "outputs": [
    {
     "data": {
      "text/plain": [
       "0.13406317300789664"
      ]
     },
     "execution_count": 15,
     "metadata": {},
     "output_type": "execute_result"
    }
   ],
   "execution_count": 15
  },
  {
   "cell_type": "markdown",
   "id": "1b5364a7",
   "metadata": {},
   "source": [
    "What we see from this is that knowing that the words \"free\" or \"prize\" appeared in the sms text, we are much more certain that it is a spam. We also see that looking directly at the JDF this can be hard to see, although it is equivalent."
   ]
  },
  {
   "cell_type": "code",
   "id": "db2e426e",
   "metadata": {
    "ExecuteTime": {
     "end_time": "2024-09-21T17:03:51.507398Z",
     "start_time": "2024-09-21T17:03:51.503872Z"
    }
   },
   "source": [
    "x = np.random.normal(size=100)"
   ],
   "outputs": [],
   "execution_count": 16
  },
  {
   "cell_type": "code",
   "id": "fd306dd2",
   "metadata": {
    "ExecuteTime": {
     "end_time": "2024-09-21T17:03:53.211279Z",
     "start_time": "2024-09-21T17:03:53.207723Z"
    }
   },
   "source": [
    "np.mean(x)"
   ],
   "outputs": [
    {
     "data": {
      "text/plain": [
       "-0.07593380524030627"
      ]
     },
     "execution_count": 17,
     "metadata": {},
     "output_type": "execute_result"
    }
   ],
   "execution_count": 17
  },
  {
   "cell_type": "code",
   "id": "72f9425b",
   "metadata": {
    "ExecuteTime": {
     "end_time": "2024-09-21T17:03:54.586652Z",
     "start_time": "2024-09-21T17:03:54.582947Z"
    }
   },
   "source": "g = lambda x: x ** 2",
   "outputs": [],
   "execution_count": 18
  },
  {
   "cell_type": "code",
   "id": "7433a956",
   "metadata": {
    "ExecuteTime": {
     "end_time": "2024-09-21T17:03:55.338495Z",
     "start_time": "2024-09-21T17:03:55.333995Z"
    }
   },
   "source": [
    "mean = np.mean(x)\n",
    "y = x - mean\n",
    "np.mean(y ** 4)"
   ],
   "outputs": [
    {
     "data": {
      "text/plain": [
       "1.8698245693974394"
      ]
     },
     "execution_count": 19,
     "metadata": {},
     "output_type": "execute_result"
    }
   ],
   "execution_count": 19
  },
  {
   "cell_type": "markdown",
   "id": "c2ca6946",
   "metadata": {},
   "source": [
    "## Moments etc"
   ]
  },
  {
   "cell_type": "code",
   "id": "9cd452b7",
   "metadata": {
    "ExecuteTime": {
     "end_time": "2024-09-21T17:03:57.084726Z",
     "start_time": "2024-09-21T17:03:57.080854Z"
    }
   },
   "source": [
    "import numpy as np\n",
    "\n",
    "x = np.random.normal(size=100)"
   ],
   "outputs": [],
   "execution_count": 20
  },
  {
   "cell_type": "code",
   "id": "58e096b6",
   "metadata": {
    "scrolled": true,
    "ExecuteTime": {
     "end_time": "2024-09-21T17:03:59.545309Z",
     "start_time": "2024-09-21T17:03:59.541404Z"
    }
   },
   "source": [
    "x"
   ],
   "outputs": [
    {
     "data": {
      "text/plain": [
       "array([ 0.05675015, -1.30685808, -0.44811238,  0.353403  , -0.2089589 ,\n",
       "        1.78212617,  0.21457045,  0.18695102, -3.17505823,  0.26886523,\n",
       "       -0.68857895, -1.62243033, -2.03533692, -0.32290653, -0.28394751,\n",
       "       -0.78685954, -0.68276881, -0.31517596, -0.68458565,  0.24432789,\n",
       "        0.24103492,  1.72626727, -1.36234231,  0.73680743, -0.02823739,\n",
       "        0.67565924, -1.96264348, -0.02403848, -0.71654766, -1.00604385,\n",
       "        0.86463023, -0.08818911, -0.39593629,  0.54655341, -0.26621933,\n",
       "       -2.6010019 ,  0.51570113, -0.44657111, -0.18839995,  0.37750352,\n",
       "       -1.2422399 ,  1.33808994, -0.39155907, -0.68796881, -0.41511169,\n",
       "        0.06089008,  0.55321713, -0.61832247, -0.1405086 ,  2.26354221,\n",
       "        0.36193072, -0.08391184,  0.0267485 ,  0.39152166,  1.08960871,\n",
       "       -0.97875903,  2.24708437, -1.83753206,  0.60898339,  0.40521707,\n",
       "        0.69375951, -0.92287382,  0.52485692,  0.75540037,  1.03552791,\n",
       "       -1.73450711,  0.2180681 , -0.3737458 ,  1.43969053, -1.34404368,\n",
       "       -0.86709441, -0.83163036, -2.55171079, -0.82282195, -0.06886454,\n",
       "       -1.52107798,  0.24883791, -1.07775294,  1.44799556,  0.66252252,\n",
       "        1.37410272,  0.15746733,  0.1418542 ,  0.0323994 , -0.14329721,\n",
       "        0.34390686,  0.50604307, -0.58113444,  0.15160679,  1.36535363,\n",
       "        1.71090298, -1.25886097,  0.70256302,  1.33601913,  0.96661937,\n",
       "        1.25160773,  0.45862208,  0.01567069, -0.63198453, -1.11546202])"
      ]
     },
     "execution_count": 21,
     "metadata": {},
     "output_type": "execute_result"
    }
   ],
   "execution_count": 21
  },
  {
   "cell_type": "markdown",
   "id": "e49b695b",
   "metadata": {},
   "source": [
    "## Sample mean"
   ]
  },
  {
   "cell_type": "code",
   "id": "efaff7e7",
   "metadata": {
    "ExecuteTime": {
     "end_time": "2024-09-21T17:04:01.329365Z",
     "start_time": "2024-09-21T17:04:01.326262Z"
    }
   },
   "source": [
    "np.mean(x)"
   ],
   "outputs": [
    {
     "data": {
      "text/plain": [
       "-0.08211141471393825"
      ]
     },
     "execution_count": 22,
     "metadata": {},
     "output_type": "execute_result"
    }
   ],
   "execution_count": 22
  },
  {
   "cell_type": "markdown",
   "id": "275037fd",
   "metadata": {},
   "source": [
    "## Sample variance"
   ]
  },
  {
   "cell_type": "code",
   "id": "d24101b3",
   "metadata": {
    "ExecuteTime": {
     "end_time": "2024-09-21T17:04:02.525936Z",
     "start_time": "2024-09-21T17:04:02.521054Z"
    }
   },
   "source": [
    "np.var(x)"
   ],
   "outputs": [
    {
     "data": {
      "text/plain": [
       "1.0602741739510835"
      ]
     },
     "execution_count": 23,
     "metadata": {},
     "output_type": "execute_result"
    }
   ],
   "execution_count": 23
  },
  {
   "cell_type": "markdown",
   "id": "424d638f",
   "metadata": {},
   "source": [
    "Or by doing it yourself"
   ]
  },
  {
   "cell_type": "code",
   "id": "f20cee48",
   "metadata": {
    "ExecuteTime": {
     "end_time": "2024-09-21T17:04:05.047820Z",
     "start_time": "2024-09-21T17:04:05.043391Z"
    }
   },
   "source": [
    "mu = np.mean(x)\n",
    "np.mean(np.power(x - mu, 2))"
   ],
   "outputs": [
    {
     "data": {
      "text/plain": [
       "1.0602741739510835"
      ]
     },
     "execution_count": 24,
     "metadata": {},
     "output_type": "execute_result"
    }
   ],
   "execution_count": 24
  },
  {
   "cell_type": "markdown",
   "id": "1bf37cf3",
   "metadata": {},
   "source": [
    "Higher moments, we can use `scipy`"
   ]
  },
  {
   "cell_type": "code",
   "id": "6913e441",
   "metadata": {
    "ExecuteTime": {
     "end_time": "2024-09-21T17:04:11.647824Z",
     "start_time": "2024-09-21T17:04:10.282691Z"
    }
   },
   "source": [
    "from scipy.stats import skew, kurtosis"
   ],
   "outputs": [],
   "execution_count": 25
  },
  {
   "cell_type": "code",
   "id": "42e817e1",
   "metadata": {
    "ExecuteTime": {
     "end_time": "2024-09-21T17:04:12.276667Z",
     "start_time": "2024-09-21T17:04:12.271988Z"
    }
   },
   "source": [
    "skew(x)"
   ],
   "outputs": [
    {
     "data": {
      "text/plain": [
       "-0.29951851072914043"
      ]
     },
     "execution_count": 26,
     "metadata": {},
     "output_type": "execute_result"
    }
   ],
   "execution_count": 26
  },
  {
   "cell_type": "code",
   "id": "d019a424",
   "metadata": {
    "ExecuteTime": {
     "end_time": "2024-09-21T17:04:13.107415Z",
     "start_time": "2024-09-21T17:04:13.102612Z"
    }
   },
   "source": "kurtosis(x, fisher=False)",
   "outputs": [
    {
     "data": {
      "text/plain": [
       "3.3207059252692717"
      ]
     },
     "execution_count": 27,
     "metadata": {},
     "output_type": "execute_result"
    }
   ],
   "execution_count": 27
  },
  {
   "cell_type": "markdown",
   "id": "ed49b580",
   "metadata": {},
   "source": [
    "## Moments and tail behavior"
   ]
  },
  {
   "cell_type": "code",
   "id": "1f1515c8",
   "metadata": {
    "ExecuteTime": {
     "end_time": "2024-09-21T17:04:19.574082Z",
     "start_time": "2024-09-21T17:04:19.570361Z"
    }
   },
   "source": [
    "def standardize(data):\n",
    "    mean = np.mean(data)\n",
    "    std = np.sqrt(np.var(data))\n",
    "    return (data - mean) / std"
   ],
   "outputs": [],
   "execution_count": 28
  },
  {
   "cell_type": "code",
   "id": "792c4384",
   "metadata": {
    "ExecuteTime": {
     "end_time": "2024-09-21T17:04:25.319224Z",
     "start_time": "2024-09-21T17:04:24.855950Z"
    }
   },
   "source": [
    "import numpy as np\n",
    "\n",
    "chi2 = np.random.chisquare(4, size=10000)\n",
    "normal = np.random.normal(size=10000)\n",
    "import matplotlib.pyplot as plt\n",
    "\n",
    "_ = plt.hist(standardize(chi2), bins=50, alpha=0.5)\n",
    "_ = plt.hist(standardize(normal), bins=50, alpha=0.5)\n",
    "plt.xlim(-3, 5)"
   ],
   "outputs": [
    {
     "data": {
      "text/plain": [
       "(-3.0, 5.0)"
      ]
     },
     "execution_count": 29,
     "metadata": {},
     "output_type": "execute_result"
    },
    {
     "data": {
      "text/plain": [
       "<Figure size 640x480 with 1 Axes>"
      ],
      "image/png": "[encoded data removed]"
     },
     "metadata": {},
     "output_type": "display_data"
    }
   ],
   "execution_count": 29
  },
  {
   "cell_type": "code",
   "id": "3897c76d",
   "metadata": {
    "ExecuteTime": {
     "end_time": "2024-09-21T17:04:41.068Z",
     "start_time": "2024-09-21T17:04:41.063529Z"
    }
   },
   "source": [
    "from scipy.stats import skew, kurtosis\n",
    "\n",
    "\n",
    "def print_basic_stats(data):\n",
    "    print(\"mean: %.2f\\tstd: %.2f\\tskew: %.2f\\tkurtosis: %.2f\" % (\n",
    "    np.mean(data), np.std(data), skew(data), kurtosis(data, fisher=False)))"
   ],
   "outputs": [],
   "execution_count": 30
  },
  {
   "cell_type": "code",
   "id": "bab37398",
   "metadata": {
    "ExecuteTime": {
     "end_time": "2024-09-21T17:04:43.052326Z",
     "start_time": "2024-09-21T17:04:43.046946Z"
    }
   },
   "source": [
    "print_basic_stats(standardize(normal))"
   ],
   "outputs": [
    {
     "name": "stdout",
     "output_type": "stream",
     "text": [
      "mean: -0.00\tstd: 1.00\tskew: -0.04\tkurtosis: 2.94\n"
     ]
    }
   ],
   "execution_count": 31
  },
  {
   "cell_type": "code",
   "id": "774c2d5f",
   "metadata": {
    "ExecuteTime": {
     "end_time": "2024-09-21T17:04:45.917973Z",
     "start_time": "2024-09-21T17:04:45.913060Z"
    }
   },
   "source": [
    "print_basic_stats(standardize(chi2))"
   ],
   "outputs": [
    {
     "name": "stdout",
     "output_type": "stream",
     "text": [
      "mean: 0.00\tstd: 1.00\tskew: 1.40\tkurtosis: 5.87\n"
     ]
    }
   ],
   "execution_count": 32
  },
  {
   "cell_type": "code",
   "id": "3769ed2a",
   "metadata": {
    "ExecuteTime": {
     "end_time": "2024-09-21T17:04:47.827752Z",
     "start_time": "2024-09-21T17:04:47.820860Z"
    }
   },
   "source": [
    "print_basic_stats(standardize(np.sqrt(chi2)))"
   ],
   "outputs": [
    {
     "name": "stdout",
     "output_type": "stream",
     "text": [
      "mean: 0.00\tstd: 1.00\tskew: 0.41\tkurtosis: 3.03\n"
     ]
    }
   ],
   "execution_count": 33
  },
  {
   "cell_type": "code",
   "id": "0af5719c",
   "metadata": {
    "ExecuteTime": {
     "end_time": "2024-09-21T17:04:48.676872Z",
     "start_time": "2024-09-21T17:04:48.670943Z"
    }
   },
   "source": "np.mean(np.power(standardize(chi2), 3))  # Skewness",
   "outputs": [
    {
     "data": {
      "text/plain": [
       "1.403055596154292"
      ]
     },
     "execution_count": 34,
     "metadata": {},
     "output_type": "execute_result"
    }
   ],
   "execution_count": 34
  },
  {
   "cell_type": "code",
   "id": "20dada6f",
   "metadata": {
    "ExecuteTime": {
     "end_time": "2024-09-21T17:04:49.173074Z",
     "start_time": "2024-09-21T17:04:49.169209Z"
    }
   },
   "source": "np.mean(np.power(standardize(chi2), 4))  # kurtosis",
   "outputs": [
    {
     "data": {
      "text/plain": [
       "5.867093223701011"
      ]
     },
     "execution_count": 35,
     "metadata": {},
     "output_type": "execute_result"
    }
   ],
   "execution_count": 35
  },
  {
   "cell_type": "markdown",
   "id": "1dd18e1b",
   "metadata": {},
   "source": [
    "## Transformations of random variables"
   ]
  },
  {
   "cell_type": "markdown",
   "id": "a315070b",
   "metadata": {},
   "source": [
    "Consider a Binomial random variable"
   ]
  },
  {
   "cell_type": "code",
   "id": "294c145e",
   "metadata": {
    "ExecuteTime": {
     "end_time": "2024-09-21T17:04:51.217171Z",
     "start_time": "2024-09-21T17:04:51.211842Z"
    }
   },
   "source": [
    "n = 10\n",
    "p = 0.5\n",
    "x = np.random.binomial(n, p, size=1000)"
   ],
   "outputs": [],
   "execution_count": 36
  },
  {
   "cell_type": "markdown",
   "id": "83ba1a31",
   "metadata": {},
   "source": [
    "Lets plot the empirical density"
   ]
  },
  {
   "cell_type": "code",
   "id": "cdc0d7a4",
   "metadata": {
    "ExecuteTime": {
     "end_time": "2024-09-21T17:04:53.445170Z",
     "start_time": "2024-09-21T17:04:53.373425Z"
    }
   },
   "source": [
    "from Utils import makeEMF, makeEDF, plotEDF, plotEMF\n",
    "\n",
    "plotEMF(makeEMF(x))"
   ],
   "outputs": [
    {
     "data": {
      "text/plain": [
       "<Figure size 640x480 with 1 Axes>"
      ],
      "image/png": "[encoded data removed]"
     },
     "metadata": {},
     "output_type": "display_data"
    }
   ],
   "execution_count": 37
  },
  {
   "cell_type": "markdown",
   "id": "8a28162a",
   "metadata": {},
   "source": [
    "If we had the function $g(x) = \\sin(x/3)$"
   ]
  },
  {
   "cell_type": "code",
   "id": "dfcc9af5",
   "metadata": {
    "ExecuteTime": {
     "end_time": "2024-09-21T17:04:58.891942Z",
     "start_time": "2024-09-21T17:04:58.815140Z"
    }
   },
   "source": [
    "plotEMF(makeEMF(np.sin(x)))"
   ],
   "outputs": [
    {
     "data": {
      "text/plain": [
       "<Figure size 640x480 with 1 Axes>"
      ],
      "image/png": "[encoded data removed]"
     },
     "metadata": {},
     "output_type": "display_data"
    }
   ],
   "execution_count": 38
  },
  {
   "cell_type": "code",
   "id": "4167118f",
   "metadata": {
    "ExecuteTime": {
     "end_time": "2024-09-21T17:05:00.312242Z",
     "start_time": "2024-09-21T17:05:00.235209Z"
    }
   },
   "source": [
    "plotEDF(makeEDF(np.sin(x)))"
   ],
   "outputs": [
    {
     "data": {
      "text/plain": [
       "<Figure size 640x480 with 1 Axes>"
      ],
      "image/png": "[encoded data removed]"
     },
     "metadata": {},
     "output_type": "display_data"
    }
   ],
   "execution_count": 39
  },
  {
   "cell_type": "markdown",
   "id": "6b0c8b89",
   "metadata": {},
   "source": [
    "Can we compute this thing?\n",
    "What is $\\sin^{[-1]}$?\n",
    "\n",
    "Since $X$ is discrete, we can check what $\\mathbb{Y}$ is, since $\\mathbb{X}=\\{0,1,\\ldots,10\\}$."
   ]
  },
  {
   "cell_type": "code",
   "id": "829f7a59",
   "metadata": {
    "ExecuteTime": {
     "end_time": "2024-09-21T17:05:05.335479Z",
     "start_time": "2024-09-21T17:05:05.332587Z"
    }
   },
   "source": [
    "Y_space = np.sort(np.sin(np.arange(0, 11)))\n",
    "sin_inv = dict(zip(np.sin(np.arange(0, 11)), np.arange(0, 11)))"
   ],
   "outputs": [],
   "execution_count": 40
  },
  {
   "cell_type": "code",
   "id": "e4b83adf",
   "metadata": {
    "ExecuteTime": {
     "end_time": "2024-09-21T17:05:06.887652Z",
     "start_time": "2024-09-21T17:05:06.778328Z"
    }
   },
   "source": [
    "from scipy.special import binom as binomial\n",
    "\n",
    "plotEMF([(y, binomial(n, sin_inv[y]) * (p ** sin_inv[y]) * ((1 - p) ** (n - sin_inv[y]))) for y in Y_space])"
   ],
   "outputs": [
    {
     "data": {
      "text/plain": [
       "<Figure size 640x480 with 1 Axes>"
      ],
      "image/png": "[encoded data removed]"
     },
     "metadata": {},
     "output_type": "display_data"
    }
   ],
   "execution_count": 41
  },
  {
   "cell_type": "code",
   "id": "4f068457",
   "metadata": {
    "ExecuteTime": {
     "end_time": "2024-09-21T17:05:22.010464Z",
     "start_time": "2024-09-21T17:05:21.996933Z"
    }
   },
   "source": "plotEDF(emfToEdf([(y, binomial(n, sin_inv[y]) * (p ** sin_inv[y]) * ((1 - p) ** (n - sin_inv[y]))) for y in Y_space]))",
   "outputs": [
    {
     "ename": "NameError",
     "evalue": "name 'emfToEdf' is not defined",
     "output_type": "error",
     "traceback": [
      "\u001B[0;31m---------------------------------------------------------------------------\u001B[0m",
      "\u001B[0;31mNameError\u001B[0m                                 Traceback (most recent call last)",
      "Cell \u001B[0;32mIn[43], line 1\u001B[0m\n\u001B[0;32m----> 1\u001B[0m plotEDF(\u001B[43memfToEdf\u001B[49m([(y, binomial(n, sin_inv[y]) \u001B[38;5;241m*\u001B[39m (p \u001B[38;5;241m*\u001B[39m\u001B[38;5;241m*\u001B[39m sin_inv[y]) \u001B[38;5;241m*\u001B[39m ((\u001B[38;5;241m1\u001B[39m \u001B[38;5;241m-\u001B[39m p) \u001B[38;5;241m*\u001B[39m\u001B[38;5;241m*\u001B[39m (n \u001B[38;5;241m-\u001B[39m sin_inv[y]))) \u001B[38;5;28;01mfor\u001B[39;00m y \u001B[38;5;129;01min\u001B[39;00m Y_space]))\n",
      "\u001B[0;31mNameError\u001B[0m: name 'emfToEdf' is not defined"
     ]
    }
   ],
   "execution_count": 43
  },
  {
   "metadata": {},
   "cell_type": "code",
   "outputs": [],
   "execution_count": null,
   "source": "",
   "id": "b6a67e0de448663f"
  }
 ],
 "metadata": {
  "kernelspec": {
   "display_name": "Python 3 (ipykernel)",
   "language": "python",
   "name": "python3"
  },
  "language_info": {
   "codemirror_mode": {
    "name": "ipython",
    "version": 3
   },
   "file_extension": ".py",
   "mimetype": "text/x-python",
   "name": "python",
   "nbconvert_exporter": "python",
   "pygments_lexer": "ipython3",
   "version": "3.9.13"
  },
  "lx_course_instance": "2024",
  "lx_course_name": "Introduction to Data Science",
  "lx_course_number": "1MS041"
 },
 "nbformat": 4,
 "nbformat_minor": 5
}
