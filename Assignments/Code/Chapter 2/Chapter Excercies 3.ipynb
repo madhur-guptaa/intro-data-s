{
 "cells": [
  {
   "cell_type": "code",
   "id": "initial_id",
   "metadata": {
    "collapsed": true,
    "ExecuteTime": {
     "end_time": "2024-09-21T17:22:21.465546Z",
     "start_time": "2024-09-21T17:22:21.463205Z"
    }
   },
   "source": [
    "import numpy as np\n",
    "\n",
    "X = np.random.normal(3, 4, 10000)"
   ],
   "outputs": [],
   "execution_count": 42
  },
  {
   "metadata": {
    "ExecuteTime": {
     "end_time": "2024-09-21T17:22:21.480318Z",
     "start_time": "2024-09-21T17:22:21.476896Z"
    }
   },
   "cell_type": "code",
   "source": "X",
   "id": "9698787676785401",
   "outputs": [
    {
     "data": {
      "text/plain": [
       "array([5.3230449 , 7.01675526, 4.80888584, ..., 3.3353865 , 1.69673811,\n",
       "       5.07148551])"
      ]
     },
     "execution_count": 43,
     "metadata": {},
     "output_type": "execute_result"
    }
   ],
   "execution_count": 43
  },
  {
   "metadata": {
    "ExecuteTime": {
     "end_time": "2024-09-21T17:22:21.555860Z",
     "start_time": "2024-09-21T17:22:21.552086Z"
    }
   },
   "cell_type": "code",
   "source": [
    "count = 0\n",
    "for i in X:\n",
    "    if i < 7:\n",
    "        count += 1\n",
    "\n",
    "print(count / len(X))"
   ],
   "id": "d6e3eafca6ef7eea",
   "outputs": [
    {
     "name": "stdout",
     "output_type": "stream",
     "text": [
      "0.8372\n"
     ]
    }
   ],
   "execution_count": 44
  },
  {
   "metadata": {
    "ExecuteTime": {
     "end_time": "2024-09-21T17:22:21.651674Z",
     "start_time": "2024-09-21T17:22:21.647778Z"
    }
   },
   "cell_type": "code",
   "source": [
    "count = 0\n",
    "for i in X:\n",
    "    if i > -2:\n",
    "        count += 1\n",
    "\n",
    "print(count / len(X))"
   ],
   "id": "dd24b579fbdb5357",
   "outputs": [
    {
     "name": "stdout",
     "output_type": "stream",
     "text": [
      "0.8941\n"
     ]
    }
   ],
   "execution_count": 45
  },
  {
   "metadata": {
    "ExecuteTime": {
     "end_time": "2024-09-21T17:22:21.699143Z",
     "start_time": "2024-09-21T17:22:21.695812Z"
    }
   },
   "cell_type": "code",
   "source": [
    "x_value = np.percentile(X, 95)\n",
    "x_value"
   ],
   "id": "68e03749fdc9a0dc",
   "outputs": [
    {
     "data": {
      "text/plain": [
       "9.697250737069906"
      ]
     },
     "execution_count": 46,
     "metadata": {},
     "output_type": "execute_result"
    }
   ],
   "execution_count": 46
  },
  {
   "metadata": {
    "ExecuteTime": {
     "end_time": "2024-09-21T17:22:21.717757Z",
     "start_time": "2024-09-21T17:22:21.714226Z"
    }
   },
   "cell_type": "code",
   "source": [
    "count = 0\n",
    "for i in X:\n",
    "    if 0 <= i < 4:\n",
    "        count += 1\n",
    "\n",
    "print(count / len(X))"
   ],
   "id": "fc0ab00a9ff773bd",
   "outputs": [
    {
     "name": "stdout",
     "output_type": "stream",
     "text": [
      "0.3698\n"
     ]
    }
   ],
   "execution_count": 47
  },
  {
   "metadata": {},
   "cell_type": "markdown",
   "source": [
    "Since the probability is for  |X| , we can rewrite it as:\n",
    "\n",
    "P(X < -x) + P(X > x) = 0.05.\n",
    "\n",
    "Because the normal distribution is symmetric, the probability in each tail is the same. Therefore, we can split the probability equally between the two tails:\n",
    "\n",
    "P(X < -x) = 0.025 \\quad \\text{and} \\quad P(X > x) = 0.025.\n",
    "\n",
    "This means we need to find the value of  x  corresponding to the 2.5th percentile on the lower side and the 97.5th percentile on the upper side."
   ],
   "id": "58c3cbaddda18811"
  },
  {
   "metadata": {
    "ExecuteTime": {
     "end_time": "2024-09-21T17:22:21.738348Z",
     "start_time": "2024-09-21T17:22:21.734921Z"
    }
   },
   "cell_type": "code",
   "source": [
    "x_value = np.percentile(X, 97.5)\n",
    "x_value"
   ],
   "id": "806096467825bb0c",
   "outputs": [
    {
     "data": {
      "text/plain": [
       "10.82698007952696"
      ]
     },
     "execution_count": 48,
     "metadata": {},
     "output_type": "execute_result"
    }
   ],
   "execution_count": 48
  }
 ],
 "metadata": {
  "kernelspec": {
   "display_name": "Python 3",
   "language": "python",
   "name": "python3"
  },
  "language_info": {
   "codemirror_mode": {
    "name": "ipython",
    "version": 2
   },
   "file_extension": ".py",
   "mimetype": "text/x-python",
   "name": "python",
   "nbconvert_exporter": "python",
   "pygments_lexer": "ipython2",
   "version": "2.7.6"
  }
 },
 "nbformat": 4,
 "nbformat_minor": 5
}
