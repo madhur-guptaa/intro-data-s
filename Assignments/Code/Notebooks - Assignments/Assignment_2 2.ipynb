{
 "cells": [
  {
   "cell_type": "markdown",
   "id": "daa981f6",
   "metadata": {
    "deletable": false
   },
   "source": [
    "\n",
    "# Assignment 2 for Course 1MS041\n",
    "Make sure you pass the `# ... Test` cells and\n",
    " submit your solution notebook in the corresponding assignment on the course website. You can submit multiple times before the deadline and your highest score will be used."
   ]
  },
  {
   "cell_type": "markdown",
   "id": "5184e036",
   "metadata": {
    "deletable": false,
    "lx_assignment_number": "2",
    "lx_assignment_type": "ASSIGNMENT",
    "lx_assignment_type2print": "Assignment",
    "lx_problem_cell_type": "PROBLEM",
    "lx_problem_number": "1",
    "lx_problem_points": "8"
   },
   "source": [
    "---\n",
    "## Assignment 2, PROBLEM 1\n",
    "Maximum Points = 8"
   ]
  },
  {
   "cell_type": "markdown",
   "id": "db58f10b",
   "metadata": {
    "deletable": false,
    "lx_assignment_number": "2",
    "lx_assignment_type": "ASSIGNMENT",
    "lx_assignment_type2print": "Assignment",
    "lx_problem_cell_type": "PROBLEM",
    "lx_problem_number": "1",
    "lx_problem_points": "8"
   },
   "source": [
    "\n",
    "A courier company operates a fleet of delivery trucks that make deliveries to different parts of the city. The trucks are equipped with GPS tracking devices that record the location of each truck at regular intervals. The locations are divided into three regions: downtown, the suburbs, and the countryside. The following table shows the probabilities of a truck transitioning between these regions at each time step:\n",
    "\n",
    "| Current region | Probability of transitioning to downtown | Probability of transitioning to the suburbs | Probability of transitioning to the countryside |\n",
    "|----------------|--------------------------------------------|-----------------------------------------------|------------------------------------------------|\n",
    "| Downtown       | 0.3                                      | 0.4                                           | 0.3                                            |\n",
    "| Suburbs        | 0.2                                      | 0.5                                           | 0.3                                            |\n",
    "| Countryside    | 0.4                                      | 0.3                                           | 0.3                                            |\n",
    "\n",
    "1. If a truck is currently in the suburbs, what is the probability that it will be in the downtown region after two time steps? [1.5p]\n",
    "2. If a truck is currently in the suburbs, what is the probability that it will be in the downtown region **the first time** after two time steps? [1.5p]\n",
    "3. Is this Markov chain irreducible? [1.5p]\n",
    "4. What is the stationary distribution? [1.5p]\n",
    "5. Advanced question: What is the expected number of steps until the first time one enters the downtown region having started in the suburbs region. Hint: to get within 1 decimal point, it is enough to compute the probabilities for hitting times below 30. [2p]\n",
    "\n"
   ]
  },
  {
   "metadata": {
    "ExecuteTime": {
     "end_time": "2025-01-15T16:59:12.180633Z",
     "start_time": "2025-01-15T16:59:12.105628Z"
    }
   },
   "cell_type": "code",
   "source": [
    "import numpy as np\n",
    "\n",
    "matrix = np.array([[0.3, 0.4, 0.3], [0.2, 0.5, 0.3], [0.4, 0.3, 0.3]])\n",
    "matrix"
   ],
   "id": "4f98837d90332495",
   "outputs": [
    {
     "data": {
      "text/plain": [
       "array([[0.3, 0.4, 0.3],\n",
       "       [0.2, 0.5, 0.3],\n",
       "       [0.4, 0.3, 0.3]])"
      ]
     },
     "execution_count": 1,
     "metadata": {},
     "output_type": "execute_result"
    }
   ],
   "execution_count": 1
  },
  {
   "metadata": {
    "ExecuteTime": {
     "end_time": "2025-01-15T16:59:12.470460Z",
     "start_time": "2025-01-15T16:59:12.467991Z"
    }
   },
   "cell_type": "code",
   "source": [
    "initial_state = np.array([0, 1, 0])\n",
    "initial_state"
   ],
   "id": "f95452ce0871057f",
   "outputs": [
    {
     "data": {
      "text/plain": [
       "array([0, 1, 0])"
      ]
     },
     "execution_count": 2,
     "metadata": {},
     "output_type": "execute_result"
    }
   ],
   "execution_count": 2
  },
  {
   "metadata": {
    "ExecuteTime": {
     "end_time": "2025-01-15T16:59:12.507123Z",
     "start_time": "2025-01-15T16:59:12.504764Z"
    }
   },
   "cell_type": "code",
   "source": [
    "transition = initial_state @ np.linalg.matrix_power(matrix, 2)\n",
    "transition"
   ],
   "id": "9febf7a90d2bcff7",
   "outputs": [
    {
     "data": {
      "text/plain": [
       "array([0.28, 0.42, 0.3 ])"
      ]
     },
     "execution_count": 3,
     "metadata": {},
     "output_type": "execute_result"
    }
   ],
   "execution_count": 3
  },
  {
   "metadata": {
    "deletable": false,
    "lx_assignment_number": "2",
    "lx_assignment_type": "ASSIGNMENT",
    "lx_assignment_type2print": "Assignment",
    "lx_problem_cell_type": "PROBLEM",
    "lx_problem_number": "1",
    "lx_problem_points": "8",
    "ExecuteTime": {
     "end_time": "2025-01-15T16:59:12.572302Z",
     "start_time": "2025-01-15T16:59:12.569697Z"
    }
   },
   "cell_type": "code",
   "source": [
    "# Part 1\n",
    "\n",
    "# Fill in the answer to part 1 below as a decimal number\n",
    "problem1_p1 = transition[0]\n",
    "problem1_p1"
   ],
   "id": "2c601f0f",
   "outputs": [
    {
     "data": {
      "text/plain": [
       "np.float64(0.28)"
      ]
     },
     "execution_count": 4,
     "metadata": {},
     "output_type": "execute_result"
    }
   ],
   "execution_count": 4
  },
  {
   "metadata": {
    "ExecuteTime": {
     "end_time": "2025-01-15T16:59:12.674999Z",
     "start_time": "2025-01-15T16:59:12.673125Z"
    }
   },
   "cell_type": "code",
   "source": [
    "# Path 1: Suburbs -> Countryside -> Downtown\n",
    "# Path 2: Suburbs -> Suburbs -> Downtown\n",
    "\n",
    "path1_1 = (initial_state @ np.linalg.matrix_power(matrix, 1))[2]\n",
    "path2_1 = (initial_state @ np.linalg.matrix_power(matrix, 1))[1]"
   ],
   "id": "b812d749e50f5c0b",
   "outputs": [],
   "execution_count": 5
  },
  {
   "metadata": {
    "ExecuteTime": {
     "end_time": "2025-01-15T16:59:12.681748Z",
     "start_time": "2025-01-15T16:59:12.680005Z"
    }
   },
   "cell_type": "code",
   "source": [
    "path1_2 = (np.array([0, 0, 1]) @ np.linalg.matrix_power(matrix, 1))[0]\n",
    "path2_2 = (np.array([0, 1, 0]) @ np.linalg.matrix_power(matrix, 1))[0]"
   ],
   "id": "4e720a73c467154e",
   "outputs": [],
   "execution_count": 6
  },
  {
   "cell_type": "code",
   "id": "52a172dc",
   "metadata": {
    "deletable": false,
    "lx_assignment_number": "2",
    "lx_assignment_type": "ASSIGNMENT",
    "lx_assignment_type2print": "Assignment",
    "lx_problem_cell_type": "PROBLEM",
    "lx_problem_number": "1",
    "lx_problem_points": "8",
    "ExecuteTime": {
     "end_time": "2025-01-15T16:59:12.705730Z",
     "start_time": "2025-01-15T16:59:12.703534Z"
    }
   },
   "source": [
    "# Part 2\n",
    "\n",
    "# Fill in the answer to part 2 below as a decimal number\n",
    "problem1_p2 = path1_1 * path1_2 + path2_1 * path2_2\n",
    "problem1_p2"
   ],
   "outputs": [
    {
     "data": {
      "text/plain": [
       "np.float64(0.22)"
      ]
     },
     "execution_count": 7,
     "metadata": {},
     "output_type": "execute_result"
    }
   ],
   "execution_count": 7
  },
  {
   "metadata": {
    "ExecuteTime": {
     "end_time": "2025-01-15T16:59:12.749018Z",
     "start_time": "2025-01-15T16:59:12.746618Z"
    }
   },
   "cell_type": "code",
   "source": [
    "check = np.all(np.linalg.matrix_power(matrix, len(matrix[0])) > 0)\n",
    "check"
   ],
   "id": "278c312b84ef91b1",
   "outputs": [
    {
     "data": {
      "text/plain": [
       "np.True_"
      ]
     },
     "execution_count": 8,
     "metadata": {},
     "output_type": "execute_result"
    }
   ],
   "execution_count": 8
  },
  {
   "metadata": {
    "deletable": false,
    "lx_assignment_number": "2",
    "lx_assignment_type": "ASSIGNMENT",
    "lx_assignment_type2print": "Assignment",
    "lx_problem_cell_type": "PROBLEM",
    "lx_problem_number": "1",
    "lx_problem_points": "8",
    "ExecuteTime": {
     "end_time": "2025-01-15T16:59:12.778718Z",
     "start_time": "2025-01-15T16:59:12.775991Z"
    }
   },
   "cell_type": "code",
   "source": [
    "# Part 3\n",
    "\n",
    "# Fill in the answer to part 3 below as a boolean\n",
    "problem1_irreducible = check\n",
    "problem1_irreducible"
   ],
   "id": "a3b3872d",
   "outputs": [
    {
     "data": {
      "text/plain": [
       "np.True_"
      ]
     },
     "execution_count": 9,
     "metadata": {},
     "output_type": "execute_result"
    }
   ],
   "execution_count": 9
  },
  {
   "metadata": {
    "ExecuteTime": {
     "end_time": "2025-01-15T16:59:12.809871Z",
     "start_time": "2025-01-15T16:59:12.803757Z"
    }
   },
   "cell_type": "code",
   "source": [
    "eval, evec = np.linalg.eig(matrix.T)\n",
    "print(eval, evec)"
   ],
   "id": "f0b0019433a55822",
   "outputs": [
    {
     "name": "stdout",
     "output_type": "stream",
     "text": [
      "[ 1.00000000e+00 -9.90532031e-17  1.00000000e-01] [[-4.93651112e-01 -8.16496581e-01  7.07106781e-01]\n",
      " [-7.02503505e-01  4.08248290e-01 -7.07106781e-01]\n",
      " [-5.12637693e-01  4.08248290e-01  4.40033516e-16]]\n"
     ]
    }
   ],
   "execution_count": 10
  },
  {
   "metadata": {
    "ExecuteTime": {
     "end_time": "2025-01-15T16:59:12.843398Z",
     "start_time": "2025-01-15T16:59:12.840464Z"
    }
   },
   "cell_type": "code",
   "source": [
    "stationary = evec[:, np.isclose(eval, 1)]\n",
    "stationary"
   ],
   "id": "b8d85976e4ef220d",
   "outputs": [
    {
     "data": {
      "text/plain": [
       "array([[-0.49365111],\n",
       "       [-0.70250351],\n",
       "       [-0.51263769]])"
      ]
     },
     "execution_count": 11,
     "metadata": {},
     "output_type": "execute_result"
    }
   ],
   "execution_count": 11
  },
  {
   "metadata": {
    "ExecuteTime": {
     "end_time": "2025-01-15T16:59:12.889289Z",
     "start_time": "2025-01-15T16:59:12.886926Z"
    }
   },
   "cell_type": "code",
   "source": [
    "stationary = stationary[:, 0].real\n",
    "stationary"
   ],
   "id": "735edc64723cf068",
   "outputs": [
    {
     "data": {
      "text/plain": [
       "array([-0.49365111, -0.70250351, -0.51263769])"
      ]
     },
     "execution_count": 12,
     "metadata": {},
     "output_type": "execute_result"
    }
   ],
   "execution_count": 12
  },
  {
   "metadata": {
    "ExecuteTime": {
     "end_time": "2025-01-15T16:59:12.973274Z",
     "start_time": "2025-01-15T16:59:12.970640Z"
    }
   },
   "cell_type": "code",
   "source": [
    "stationary = stationary / np.sum(stationary)\n",
    "stationary"
   ],
   "id": "5d4da5c261c391c6",
   "outputs": [
    {
     "data": {
      "text/plain": [
       "array([0.28888889, 0.41111111, 0.3       ])"
      ]
     },
     "execution_count": 13,
     "metadata": {},
     "output_type": "execute_result"
    }
   ],
   "execution_count": 13
  },
  {
   "metadata": {
    "deletable": false,
    "lx_assignment_number": "2",
    "lx_assignment_type": "ASSIGNMENT",
    "lx_assignment_type2print": "Assignment",
    "lx_problem_cell_type": "PROBLEM",
    "lx_problem_number": "1",
    "lx_problem_points": "8",
    "ExecuteTime": {
     "end_time": "2025-01-15T16:59:13.020453Z",
     "start_time": "2025-01-15T16:59:13.017846Z"
    }
   },
   "cell_type": "code",
   "source": [
    "# Part 4\n",
    "\n",
    "# Fill in the answer to part 4 below\n",
    "# the answer should be a numpy array of length 3\n",
    "# make sure that the entries sums to 1!\n",
    "problem1_stationary = stationary\n",
    "problem1_stationary"
   ],
   "id": "1b9d0a00",
   "outputs": [
    {
     "data": {
      "text/plain": [
       "array([0.28888889, 0.41111111, 0.3       ])"
      ]
     },
     "execution_count": 14,
     "metadata": {},
     "output_type": "execute_result"
    }
   ],
   "execution_count": 14
  },
  {
   "metadata": {
    "ExecuteTime": {
     "end_time": "2025-01-15T16:59:13.083005Z",
     "start_time": "2025-01-15T16:59:13.080523Z"
    }
   },
   "cell_type": "code",
   "source": [
    "current_state = [0, 1, 0]\n",
    "expected_steps = 0\n",
    "for i in range(1, 31):\n",
    "    current_state = current_state @ matrix\n",
    "    expected_steps += i * current_state[0]\n",
    "    current_state[0] = 0\n",
    "\n",
    "expected_steps"
   ],
   "id": "4ebe3e5396d38d49",
   "outputs": [
    {
     "data": {
      "text/plain": [
       "np.float64(3.8444520365145998)"
      ]
     },
     "execution_count": 15,
     "metadata": {},
     "output_type": "execute_result"
    }
   ],
   "execution_count": 15
  },
  {
   "metadata": {
    "deletable": false,
    "lx_assignment_number": "2",
    "lx_assignment_type": "ASSIGNMENT",
    "lx_assignment_type2print": "Assignment",
    "lx_problem_cell_type": "PROBLEM",
    "lx_problem_number": "1",
    "lx_problem_points": "8",
    "ExecuteTime": {
     "end_time": "2025-01-15T16:59:13.158282Z",
     "start_time": "2025-01-15T16:59:13.155408Z"
    }
   },
   "cell_type": "code",
   "source": [
    "# Part 5\n",
    "\n",
    "# Fill in the answer to part 5 below\n",
    "# That is, the expected number of steps as a decimal number\n",
    "problem1_ET = expected_steps\n",
    "problem1_ET"
   ],
   "id": "481625e3",
   "outputs": [
    {
     "data": {
      "text/plain": [
       "np.float64(3.8444520365145998)"
      ]
     },
     "execution_count": 16,
     "metadata": {},
     "output_type": "execute_result"
    }
   ],
   "execution_count": 16
  },
  {
   "cell_type": "markdown",
   "id": "e78a4dee",
   "metadata": {
    "deletable": false,
    "lx_assignment_number": "2",
    "lx_assignment_type": "ASSIGNMENT",
    "lx_assignment_type2print": "Assignment",
    "lx_problem_cell_type": "PROBLEM",
    "lx_problem_number": "2",
    "lx_problem_points": "4"
   },
   "source": [
    "---\n",
    "## Assignment 2, PROBLEM 2\n",
    "Maximum Points = 4"
   ]
  },
  {
   "cell_type": "markdown",
   "id": "d9a825d1",
   "metadata": {
    "deletable": false,
    "lx_assignment_number": "2",
    "lx_assignment_type": "ASSIGNMENT",
    "lx_assignment_type2print": "Assignment",
    "lx_problem_cell_type": "PROBLEM",
    "lx_problem_number": "2",
    "lx_problem_points": "4"
   },
   "source": [
    "\n",
    "Use the **Multi-dimensional Constrained Optimisation** example (in `07-Optimization.ipynb`) to numerically find the MLe for the mean and variance parameter based on `normallySimulatedDataSamples`, an array obtained by a specific simulation of $30$ IID samples from the $Normal(10,2)$ random variable.\n",
    "\n",
    "Recall that $Normal(\\mu, \\sigma^2)$ RV has the probability density function given by:\n",
    "\n",
    "$$\n",
    "f(x ;\\mu, \\sigma) = \\displaystyle\\frac{1}{\\sigma\\sqrt{2\\pi}}\\exp\\left(\\frac{-1}{2\\sigma^2}(x-\\mu)^2\\right)\n",
    "$$\n",
    "\n",
    "The two parameters, $\\mu \\in \\mathbb{R} := (-\\infty,\\infty)$ and $\\sigma \\in (0,\\infty)$, are sometimes referred to as the location and scale parameters.\n",
    "\n",
    "You know that the log likelihood function for $n$ IID samples from a Normal RV with parameters $\\mu$ and $\\sigma$ simply follows from $\\sum_{i=1}^n \\log(f(x_i; \\mu,\\sigma))$, based on the IID assumption. \n",
    "\n",
    "NOTE: When setting bounding boxes for $\\mu$ and $\\sigma$ try to start with some guesses like $[-20,20]$ and $[0.1,5.0]$ and make it larger if the solution is at the boundary. Making the left bounding-point for $\\sigma$ too close to $0.0$ will cause division by zero Warnings. Other numerical instabilities can happen in such iterative numerical solutions to the MLe. You need to be patient and learn by trial-and-error. You will see the mathematical theory in more details in a future course in scientific computing/optimisation. So don't worry too much now except learning to use it for our problems.  "
   ]
  },
  {
   "cell_type": "code",
   "id": "699b52ca",
   "metadata": {
    "deletable": false,
    "lx_assignment_number": "2",
    "lx_assignment_type": "ASSIGNMENT",
    "lx_assignment_type2print": "Assignment",
    "lx_problem_cell_type": "PROBLEM",
    "lx_problem_number": "2",
    "lx_problem_points": "4",
    "ExecuteTime": {
     "end_time": "2025-01-15T16:59:13.518714Z",
     "start_time": "2025-01-15T16:59:13.244770Z"
    }
   },
   "source": [
    "import numpy as np\n",
    "from scipy import optimize\n",
    "\n",
    "# do NOT change the next three lines\n",
    "np.random.seed(123456)  # set seed\n",
    "# simulate 30 IID samples drawn from Normal(10,2)RV\n",
    "normallySimulatedDataSamples = np.random.normal(10, 2, 30)\n",
    "\n",
    "\n",
    "# define the negative log likelihoo function you want to minimise by editing XXX\n",
    "def negLogLklOfIIDNormalSamples(parameters):\n",
    "    '''return the -log(likelihood) of normallySimulatedDataSamples with mean and var parameters'''\n",
    "    mu_param = parameters[0]\n",
    "    sigma_param = parameters[1]\n",
    "    sum = 0\n",
    "    for i in range(len(normallySimulatedDataSamples)):\n",
    "        term = (1 / (np.sqrt(2 * np.pi * sigma_param))) * np.e ** (\n",
    "                (-1 / (2 * sigma_param)) * (normallySimulatedDataSamples[i] - mu_param) ** 2)\n",
    "        sum += np.log(term)\n",
    "\n",
    "    return -sum\n",
    "\n",
    "\n",
    "# you should only change XXX below and not anything else\n",
    "parameter_bounding_box = ((-100, 100), (0.01, 100))  # specify the constraints for each parameter - some guess work...\n",
    "initial_arguments = np.array([1, 1])  # point in 2D to initialise the minimize algorithm\n",
    "result_problem2_opt = optimize.minimize(negLogLklOfIIDNormalSamples, initial_arguments, bounds=parameter_bounding_box)\n",
    "# call the minimize method above finally! you need to play a bit to get initial conditions and bounding box ok\n",
    "result_problem2_opt\n"
   ],
   "outputs": [
    {
     "name": "stderr",
     "output_type": "stream",
     "text": [
      "/var/folders/zz/36b01_n10d5_rkg9ld_51cj80000gn/T/ipykernel_38697/2267402195.py:19: RuntimeWarning: divide by zero encountered in log\n",
      "  sum += np.log(term)\n",
      "/Users/madhurgupta/my_env/lib/python3.12/site-packages/scipy/optimize/_numdiff.py:592: RuntimeWarning: invalid value encountered in subtract\n",
      "  df = fun(x1) - f0\n"
     ]
    },
    {
     "data": {
      "text/plain": [
       "  message: CONVERGENCE: REL_REDUCTION_OF_F_<=_FACTR*EPSMCH\n",
       "  success: True\n",
       "   status: 0\n",
       "      fun: 74.52943250814468\n",
       "        x: [ 6.923e+00  8.517e+00]\n",
       "      nit: 11\n",
       "      jac: [-8.263e+00  1.990e-02]\n",
       "     nfev: 51\n",
       "     njev: 17\n",
       " hess_inv: <2x2 LbfgsInvHessProduct with dtype=float64>"
      ]
     },
     "execution_count": 17,
     "metadata": {},
     "output_type": "execute_result"
    }
   ],
   "execution_count": 17
  },
  {
   "cell_type": "markdown",
   "id": "d64a351c",
   "metadata": {
    "deletable": false,
    "lx_assignment_number": "2",
    "lx_assignment_type": "ASSIGNMENT",
    "lx_assignment_type2print": "Assignment",
    "lx_problem_cell_type": "PROBLEM",
    "lx_problem_number": "3",
    "lx_problem_points": "4"
   },
   "source": [
    "---\n",
    "## Assignment 2, PROBLEM 3\n",
    "Maximum Points = 4"
   ]
  },
  {
   "cell_type": "markdown",
   "id": "0b9c787c",
   "metadata": {
    "deletable": false,
    "lx_assignment_number": "2",
    "lx_assignment_type": "ASSIGNMENT",
    "lx_assignment_type2print": "Assignment",
    "lx_problem_cell_type": "PROBLEM",
    "lx_problem_number": "3",
    "lx_problem_points": "4"
   },
   "source": [
    "\n",
    "\n",
    "Derive the maximum likelihood estimate for $n$ IID samples from a random variable with the following probability density function:\n",
    "$$\n",
    "f(x; \\lambda) = \\frac{1}{24} \\lambda^5 x^4 \\exp(-\\lambda x), \\qquad \\text{ where, } \\lambda>0, x > 0\n",
    "$$\n",
    "\n",
    "You can solve the MLe by hand (using pencil paper or using key-strokes). Present your solution as the return value of a function called `def MLeForAssignment2Problem3(x)`, where `x` is a list of $n$ input data points."
   ]
  },
  {
   "cell_type": "code",
   "id": "41720f28",
   "metadata": {
    "deletable": false,
    "lx_assignment_number": "2",
    "lx_assignment_type": "ASSIGNMENT",
    "lx_assignment_type2print": "Assignment",
    "lx_problem_cell_type": "PROBLEM",
    "lx_problem_number": "3",
    "lx_problem_points": "4",
    "ExecuteTime": {
     "end_time": "2025-01-15T16:59:13.532800Z",
     "start_time": "2025-01-15T16:59:13.526910Z"
    }
   },
   "source": [
    "# do not change the name of the function, just replace XXX with the appropriate expressions for the MLe\n",
    "def MLeForAssignment2Problem3(x):\n",
    "    '''write comment of what this function does'''\n",
    "\n",
    "    return (5 * len(x)) / sum(x)"
   ],
   "outputs": [],
   "execution_count": 18
  },
  {
   "metadata": {
    "ExecuteTime": {
     "end_time": "2025-01-15T16:59:13.587051Z",
     "start_time": "2025-01-15T16:59:13.584308Z"
    }
   },
   "cell_type": "code",
   "source": "MLeForAssignment2Problem3([2.0, 3.0, 4.0, 5.0])",
   "id": "221569fce507ae40",
   "outputs": [
    {
     "data": {
      "text/plain": [
       "1.4285714285714286"
      ]
     },
     "execution_count": 19,
     "metadata": {},
     "output_type": "execute_result"
    }
   ],
   "execution_count": 19
  },
  {
   "cell_type": "markdown",
   "id": "2de9360d",
   "metadata": {
    "deletable": false,
    "lx_assignment_number": "2",
    "lx_assignment_type": "ASSIGNMENT",
    "lx_assignment_type2print": "Assignment",
    "lx_problem_cell_type": "PROBLEM",
    "lx_problem_number": "4",
    "lx_problem_points": "8"
   },
   "source": [
    "---\n",
    "## Assignment 2, PROBLEM 4\n",
    "Maximum Points = 8"
   ]
  },
  {
   "cell_type": "markdown",
   "id": "2e67892b",
   "metadata": {
    "deletable": false,
    "lx_assignment_number": "2",
    "lx_assignment_type": "ASSIGNMENT",
    "lx_assignment_type2print": "Assignment",
    "lx_problem_cell_type": "PROBLEM",
    "lx_problem_number": "4",
    "lx_problem_points": "8"
   },
   "source": [
    "\n",
    "## Random variable generation and transformation\n",
    "\n",
    "The purpose of this problem is to show that you can implement your own sampler, this will be built in the following three steps:\n",
    "\n",
    "1. [2p] Implement a Linear Congruential Generator where you tested out a good combination (a large $M$ with $a,b$ satisfying the Hull-Dobell (Thm 6.8)) of parameters. Follow the instructions in the code block.\n",
    "2. [2p] Using a generator construct random numbers from the uniform $[0,1]$ distribution.\n",
    "3. [4p] Using a uniform $[0,1]$ random generator, generate samples from \n",
    "\n",
    "$$p_0(x) = \\frac{\\pi}{2}|\\sin(2\\pi x)|, \\quad x \\in [0,1] \\enspace .$$\n",
    "\n",
    "Using the **Accept-Reject** sampler (**Algorithm 1** in TFDS notes) with sampling density given by the uniform $[0,1]$ distribution."
   ]
  },
  {
   "cell_type": "code",
   "id": "530446bc",
   "metadata": {
    "deletable": false,
    "lx_assignment_number": "2",
    "lx_assignment_type": "ASSIGNMENT",
    "lx_assignment_type2print": "Assignment",
    "lx_problem_cell_type": "PROBLEM",
    "lx_problem_number": "4",
    "lx_problem_points": "8",
    "ExecuteTime": {
     "end_time": "2025-01-15T16:59:13.621094Z",
     "start_time": "2025-01-15T16:59:13.618115Z"
    }
   },
   "source": [
    "\n",
    "def problem4_LCG(size=None, seed=0):\n",
    "    \"\"\"\n",
    "    A linear congruential generator that generates pseudo random numbers according to size.\n",
    "    \n",
    "    Parameters\n",
    "    -------------\n",
    "    size : an integer denoting how many samples should be produced\n",
    "    seed : the starting point of the LCG, i.e. u0 in the notes.\n",
    "    \n",
    "    Returns\n",
    "    -------------\n",
    "    out : a list of the pseudo random numbers\n",
    "    \"\"\"\n",
    "\n",
    "    a, b, M = 1664525, 1013904223, 2 ** 31\n",
    "    numbers = []\n",
    "    X = seed\n",
    "    for _ in range(size):\n",
    "        X = (a * X + b) % M\n",
    "        numbers.append(X)\n",
    "\n",
    "    return numbers"
   ],
   "outputs": [],
   "execution_count": 20
  },
  {
   "metadata": {
    "ExecuteTime": {
     "end_time": "2025-01-15T16:59:13.660179Z",
     "start_time": "2025-01-15T16:59:13.657355Z"
    }
   },
   "cell_type": "code",
   "source": "problem4_LCG(100, 42)",
   "id": "8356fe0059879679",
   "outputs": [
    {
     "data": {
      "text/plain": [
       "[1083814273,\n",
       " 378494188,\n",
       " 331920219,\n",
       " 955863294,\n",
       " 1613448261,\n",
       " 110225632,\n",
       " 1921058495,\n",
       " 508781842,\n",
       " 1605517641,\n",
       " 2124438036,\n",
       " 1516994147,\n",
       " 2146095206,\n",
       " 609889421,\n",
       " 1552442504,\n",
       " 414334535,\n",
       " 389768954,\n",
       " 602196497,\n",
       " 1933114428,\n",
       " 1823451755,\n",
       " 1672756430,\n",
       " 216931797,\n",
       " 775312688,\n",
       " 215115471,\n",
       " 1112253922,\n",
       " 1903193049,\n",
       " 1380836196,\n",
       " 666982259,\n",
       " 1414739510,\n",
       " 2005415965,\n",
       " 260725464,\n",
       " 96444503,\n",
       " 160154058,\n",
       " 1417168545,\n",
       " 1483190156,\n",
       " 777037179,\n",
       " 1635343518,\n",
       " 367893349,\n",
       " 843519360,\n",
       " 907807455,\n",
       " 938957490,\n",
       " 2105768553,\n",
       " 1931673780,\n",
       " 420590723,\n",
       " 822890502,\n",
       " 1921476525,\n",
       " 545465640,\n",
       " 1154336359,\n",
       " 402526362,\n",
       " 1308436273,\n",
       " 1672509148,\n",
       " 926721163,\n",
       " 1168486510,\n",
       " 81968373,\n",
       " 1193880016,\n",
       " 1434383087,\n",
       " 1644397442,\n",
       " 1957981433,\n",
       " 827634180,\n",
       " 1594725779,\n",
       " 353574358,\n",
       " 1446034237,\n",
       " 1350026104,\n",
       " 555593847,\n",
       " 2061456234,\n",
       " 442264513,\n",
       " 1810387500,\n",
       " 1313122203,\n",
       " 1859532862,\n",
       " 902201989,\n",
       " 1317114400,\n",
       " 509353727,\n",
       " 39657554,\n",
       " 504120201,\n",
       " 1045952340,\n",
       " 447085219,\n",
       " 849649574,\n",
       " 2107454157,\n",
       " 900543944,\n",
       " 976248455,\n",
       " 834439738,\n",
       " 1639912529,\n",
       " 1361330556,\n",
       " 846835371,\n",
       " 1458041870,\n",
       " 1725033493,\n",
       " 657804912,\n",
       " 542412559,\n",
       " 170996002,\n",
       " 651427353,\n",
       " 2095173796,\n",
       " 1829495731,\n",
       " 1061016950,\n",
       " 1847971421,\n",
       " 195591192,\n",
       " 331796631,\n",
       " 1398977802,\n",
       " 2056134881,\n",
       " 1287210188,\n",
       " 724351419,\n",
       " 1660412894]"
      ]
     },
     "execution_count": 21,
     "metadata": {},
     "output_type": "execute_result"
    }
   ],
   "execution_count": 21
  },
  {
   "cell_type": "code",
   "id": "8d215c5a",
   "metadata": {
    "deletable": false,
    "lx_assignment_number": "2",
    "lx_assignment_type": "ASSIGNMENT",
    "lx_assignment_type2print": "Assignment",
    "lx_problem_cell_type": "PROBLEM",
    "lx_problem_number": "4",
    "lx_problem_points": "8",
    "ExecuteTime": {
     "end_time": "2025-01-15T16:59:13.703933Z",
     "start_time": "2025-01-15T16:59:13.701598Z"
    }
   },
   "source": [
    "\n",
    "def problem4_uniform(generator=None, period=1, size=None, seed=0):\n",
    "    \"\"\"\n",
    "    Takes a generator and produces samples from the uniform [0,1] distribution according\n",
    "    to size.\n",
    "    \n",
    "    Parameters\n",
    "    -------------\n",
    "    generator : a function of type generator(size,seed) and produces the same result as problem1_LCG, i.e. pseudo random numbers in the range {0,1,...,period-1}\n",
    "    period : the period of the generator\n",
    "    seed : the seed to be used in the generator provided\n",
    "    size : an integer denoting how many samples should be produced\n",
    "    \n",
    "    Returns\n",
    "    --------------\n",
    "    out : a list of the uniform pseudo random numbers\n",
    "    \"\"\"\n",
    "\n",
    "    samples = generator(size, seed)\n",
    "    uniform_samples = [sample / (period - 1) for sample in samples]\n",
    "    return uniform_samples"
   ],
   "outputs": [],
   "execution_count": 22
  },
  {
   "cell_type": "code",
   "id": "15832284",
   "metadata": {
    "deletable": false,
    "lx_assignment_number": "2",
    "lx_assignment_type": "ASSIGNMENT",
    "lx_assignment_type2print": "Assignment",
    "lx_problem_cell_type": "PROBLEM",
    "lx_problem_number": "4",
    "lx_problem_points": "8",
    "ExecuteTime": {
     "end_time": "2025-01-15T16:59:13.738578Z",
     "start_time": "2025-01-15T16:59:13.735829Z"
    }
   },
   "source": [
    "\n",
    "def problem4_accept_reject(uniformGenerator=None, n_iterations=None, seed=0):\n",
    "    \"\"\"\n",
    "    Takes a generator that produces uniform pseudo random [0,1] numbers \n",
    "    and produces samples from (pi/2)*abs(sin(x*2*pi)) using an Accept-Reject\n",
    "    sampler with the uniform distribution as the proposal distribution.\n",
    "    Runs n_iterations\n",
    "    \n",
    "    Parameters\n",
    "    -------------\n",
    "    generator : a function of the type generator(size,seed) that produces uniform pseudo random\n",
    "    numbers from [0,1]\n",
    "    seed : the seed to be used in the generator provided\n",
    "    n_iterations : an integer denoting how many attempts should be made in the accept-reject sampler\n",
    "    \n",
    "    Returns\n",
    "    --------------\n",
    "    out : a list of the pseudo random numbers with the specified distribution\n",
    "    \"\"\"\n",
    "\n",
    "    samples = uniformGenerator(n_iterations, seed)\n",
    "\n",
    "    P_x = []\n",
    "    for i in range(n_iterations):\n",
    "        x = samples[i]\n",
    "        p_x = (np.pi / 2) * np.abs(np.sin(2 * np.pi * x))\n",
    "\n",
    "        u = uniformGenerator(n_iterations, seed)[0]\n",
    "        if u <= 10 * (x / p_x):\n",
    "            P_x.append(p_x)\n",
    "    return P_x"
   ],
   "outputs": [],
   "execution_count": 23
  },
  {
   "cell_type": "markdown",
   "id": "6479a17c",
   "metadata": {
    "deletable": false,
    "lx_assignment_number": "2",
    "lx_assignment_type": "ASSIGNMENT",
    "lx_assignment_type2print": "Assignment",
    "lx_problem_cell_type": "Test",
    "lx_problem_number": "4",
    "lx_problem_points": "8"
   },
   "source": [
    "---\n",
    "#### Local Test for Assignment 2, PROBLEM 4\n",
    "Evaluate cell below to make sure your answer is valid.                             You **should not** modify anything in the cell below when evaluating it to do a local test of                             your solution.\n",
    "You may need to include and evaluate code snippets from lecture notebooks in cells above to make the local test work correctly sometimes (see error messages for clues). This is meant to help you become efficient at recalling materials covered in lectures that relate to this problem. Such local tests will generally not be available in the exam."
   ]
  },
  {
   "cell_type": "code",
   "id": "26cd1592",
   "metadata": {
    "deletable": false,
    "lx_assignment_number": "2",
    "lx_assignment_type": "ASSIGNMENT",
    "lx_assignment_type2print": "Assignment",
    "lx_problem_cell_type": "Test",
    "lx_problem_number": "4",
    "lx_problem_points": "8",
    "ExecuteTime": {
     "end_time": "2025-01-15T16:59:13.757556Z",
     "start_time": "2025-01-15T16:59:13.754943Z"
    }
   },
   "source": [
    "\n",
    "# If you managed to solve all three parts you can test the following code to see if it runs\n",
    "# you have to change the period to match your LCG though, this is marked as XXX.\n",
    "# It is a very good idea to check these things using the histogram function in sagemath\n",
    "# try with a larger number of samples, up to 10000 should run\n",
    "\n",
    "print(\"LCG output: %s\" % problem4_LCG(size=10, seed=1))\n",
    "\n",
    "period = 2 ** 31\n",
    "\n",
    "print(\"Uniform sampler %s\" % problem4_uniform(generator=problem4_LCG, period=period, size=10, seed=1))\n",
    "\n",
    "uniform_sampler = lambda size, seed: problem4_uniform(generator=problem4_LCG, period=period, size=size, seed=seed)\n",
    "\n",
    "print(\"Accept-Reject sampler %s\" % problem4_accept_reject(uniformGenerator=uniform_sampler, n_iterations=20, seed=1))"
   ],
   "outputs": [
    {
     "name": "stdout",
     "output_type": "stream",
     "text": [
      "LCG output: [1015568748, 1586005467, 18219390, 879966917, 217083232, 1587069247, 1180097938, 241328073, 70837908, 598057187]\n",
      "Uniform sampler [0.4729110507634054, 0.7385413477842423, 0.008484064605312452, 0.40976652754925497, 0.10108725731311705, 0.7390367089486852, 0.5495259252141816, 0.11237714118900576, 0.03298647144482773, 0.27849207971174833]\n",
      "Accept-Reject sampler [np.float64(0.2660682045879033), np.float64(1.5667269389103675), np.float64(0.08369470997672833), np.float64(0.8436194236014133), np.float64(0.9319507026845661), np.float64(1.5670710395147722), np.float64(0.4809506854291521), np.float64(1.0192282610638725), np.float64(0.3232375669339179), np.float64(1.545692626881825), np.float64(0.00890513092142037), np.float64(1.3005297644147658), np.float64(1.427046275454105), np.float64(1.3944791611282086), np.float64(0.2928656996016643), np.float64(0.3744453866368082), np.float64(1.546158416110423), np.float64(1.2922063501622314), np.float64(1.1769298242950408), np.float64(0.6049291690141559)]\n"
     ]
    }
   ],
   "execution_count": 24
  },
  {
   "cell_type": "code",
   "id": "5318f370",
   "metadata": {
    "deletable": false,
    "lx_assignment_number": "2",
    "lx_assignment_type": "ASSIGNMENT",
    "lx_assignment_type2print": "Assignment",
    "lx_problem_cell_type": "Test",
    "lx_problem_number": "4",
    "lx_problem_points": "8",
    "ExecuteTime": {
     "end_time": "2025-01-15T16:59:13.792672Z",
     "start_time": "2025-01-15T16:59:13.789205Z"
    }
   },
   "source": [
    "\n",
    "# If however you did not manage to implement either part 1 or part 2 but still want to check part 3, you can run the code below\n",
    "\n",
    "def testUniformGenerator(size, seed):\n",
    "    import random\n",
    "    random.seed(seed)\n",
    "\n",
    "    return [random.uniform(0, 1) for s in range(size)]\n",
    "\n",
    "\n",
    "print(\n",
    "    \"Accept-Reject sampler %s\" % problem4_accept_reject(uniformGenerator=testUniformGenerator, n_iterations=20, seed=1))"
   ],
   "outputs": [
    {
     "name": "stdout",
     "output_type": "stream",
     "text": [
      "Accept-Reject sampler [np.float64(1.1741128167850454), np.float64(1.2855225073129173), np.float64(1.5649168633439452), np.float64(1.5699996871810427), np.float64(0.04504770738210951), np.float64(0.4901774164088657), np.float64(1.279978281538078), np.float64(1.5245313883405471), np.float64(0.8735867736904243), np.float64(0.27830144010573704), np.float64(1.3481908954994044), np.float64(0.6440020074783206), np.float64(1.5661228863357384), np.float64(0.020785306808902768), np.float64(0.5284911789780555), np.float64(1.545749030558017), np.float64(1.5568318950366071), np.float64(0.5295738007987892), np.float64(0.9118561433959141), np.float64(0.3000556048121108)]\n"
     ]
    }
   ],
   "execution_count": 25
  }
 ],
 "metadata": {
  "lx_assignment_number": 2,
  "lx_course_instance": "2024",
  "lx_course_name": "Introduction to Data Science",
  "lx_course_number": "1MS041",
  "kernelspec": {
   "name": "python3",
   "language": "python",
   "display_name": "Python 3 (ipykernel)"
  }
 },
 "nbformat": 4,
 "nbformat_minor": 5
}
