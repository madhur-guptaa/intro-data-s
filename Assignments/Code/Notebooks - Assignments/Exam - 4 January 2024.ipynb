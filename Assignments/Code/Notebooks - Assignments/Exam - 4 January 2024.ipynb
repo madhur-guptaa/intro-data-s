{
 "cells": [
  {
   "cell_type": "code",
   "id": "initial_id",
   "metadata": {
    "collapsed": true,
    "ExecuteTime": {
     "end_time": "2025-01-16T12:18:48.148135Z",
     "start_time": "2025-01-16T12:18:48.145011Z"
    }
   },
   "source": [
    "import numpy as np\n",
    "\n",
    "\n",
    "def problem1_inversion(n_samples=1):\n",
    "    # Distribution from part 1\n",
    "    # write the code in this function to produce samples from the distribution in the assignment\n",
    "    # Make sure you choose a good sampling distribution to avoid unnecessary rejections\n",
    "\n",
    "    samples = []\n",
    "\n",
    "    while len(samples) < n_samples:\n",
    "        x = np.random.uniform(0, 1)\n",
    "        u = np.random.uniform(0, 1)\n",
    "        g_x = 1 / np.exp(x)\n",
    "        f_x = (np.exp(x ** 2) - 1) / (np.e - 1)\n",
    "\n",
    "        if u < f_x / (10 * g_x):\n",
    "            samples.append(x)\n",
    "\n",
    "    # Return a numpy array of length n_samples\n",
    "    return np.array(samples)"
   ],
   "outputs": [],
   "execution_count": 314
  },
  {
   "metadata": {
    "ExecuteTime": {
     "end_time": "2025-01-16T12:18:55.241217Z",
     "start_time": "2025-01-16T12:18:49.934057Z"
    }
   },
   "cell_type": "code",
   "source": [
    "# Part 2\n",
    "\n",
    "problem1_samples = problem1_inversion(100000)"
   ],
   "id": "43ff0ad7c83d2ed1",
   "outputs": [],
   "execution_count": 315
  },
  {
   "metadata": {
    "ExecuteTime": {
     "end_time": "2025-01-16T12:04:00.940248Z",
     "start_time": "2025-01-16T12:04:00.773238Z"
    }
   },
   "cell_type": "code",
   "source": [
    "import matplotlib.pyplot as plt\n",
    "\n",
    "x = np.linspace(0, 1, 500)\n",
    "theoretical_density = (np.exp(x ** 2) - 1) / (np.e - 1)\n",
    "\n",
    "plt.hist(problem1_samples, bins=100, label=\"Sampled Distribution\", density=True, alpha=0.6)\n",
    "plt.plot(x, theoretical_density, label=\"Theoretical Density\", color=\"red\")\n",
    "\n",
    "plt.xlabel(\"x\")\n",
    "plt.ylabel(\"Count\")\n",
    "plt.legend()\n",
    "plt.show()"
   ],
   "id": "89946bdba96b58ed",
   "outputs": [
    {
     "data": {
      "text/plain": [
       "<Figure size 640x480 with 1 Axes>"
      ],
      "image/png": "[encoded data removed]"
     },
     "metadata": {},
     "output_type": "display_data"
    }
   ],
   "execution_count": 278
  },
  {
   "metadata": {
    "ExecuteTime": {
     "end_time": "2025-01-16T12:06:04.624009Z",
     "start_time": "2025-01-16T12:06:04.514629Z"
    }
   },
   "cell_type": "code",
   "source": [
    "# Part 3\n",
    "\n",
    "integrand = lambda x: np.sin(x) * ((2 * np.exp(x ** 2) * x) / (np.e - 1))\n",
    "problem1_integral = np.mean([integrand(xi) for xi in problem1_samples])\n",
    "problem1_integral"
   ],
   "id": "3aa579105a3b843b",
   "outputs": [
    {
     "data": {
      "text/plain": [
       "np.float64(1.5076827745067112)"
      ]
     },
     "execution_count": 285,
     "metadata": {},
     "output_type": "execute_result"
    }
   ],
   "execution_count": 285
  },
  {
   "metadata": {
    "ExecuteTime": {
     "end_time": "2025-01-16T12:06:18.102900Z",
     "start_time": "2025-01-16T12:06:17.895740Z"
    }
   },
   "cell_type": "code",
   "source": [
    "b = np.max([integrand(xi) for xi in problem1_samples]) - np.min([integrand(xi) for xi in problem1_samples])\n",
    "epsilon = np.sqrt(np.log(2 / 0.05) * b ** 2 / (2 * len(problem1_samples)))\n",
    "problem1_interval = (problem1_integral - epsilon, problem1_integral + epsilon)\n",
    "problem1_interval"
   ],
   "id": "a189940187936b43",
   "outputs": [
    {
     "data": {
      "text/plain": [
       "(np.float64(1.4962584340228267), np.float64(1.5191071149905957))"
      ]
     },
     "execution_count": 287,
     "metadata": {},
     "output_type": "execute_result"
    }
   ],
   "execution_count": 287
  },
  {
   "metadata": {
    "ExecuteTime": {
     "end_time": "2025-01-16T12:24:57.746353Z",
     "start_time": "2025-01-16T12:24:57.739943Z"
    }
   },
   "cell_type": "code",
   "source": [
    "# Part 5\n",
    "def problem1_inversion_2(n_samples=1):\n",
    "    # Distribution from part 2\n",
    "    # write the code in this function to produce samples from the distribution in the assignment\n",
    "    # Make sure you choose a good sampling distribution to avoid unnecessary rejections\n",
    "\n",
    "    samples = []\n",
    "\n",
    "    while len(samples) < n_samples:\n",
    "        x = np.random.uniform(0, 1 / 20)\n",
    "        u = np.random.uniform(0, 1)\n",
    "        g_x = np.exp(x) / 5\n",
    "        f_x = 20 * x * np.exp(20 - (1 / x))\n",
    "        # print(g_x, f_x)\n",
    "\n",
    "        if u < f_x / (1 * g_x):\n",
    "            samples.append(x)\n",
    "\n",
    "    # Return a numpy array of length n_samples\n",
    "    return np.array(samples)"
   ],
   "id": "198aa6df9c3780db",
   "outputs": [],
   "execution_count": 316
  },
  {
   "metadata": {
    "ExecuteTime": {
     "end_time": "2025-01-16T12:25:04.330986Z",
     "start_time": "2025-01-16T12:25:01.353819Z"
    }
   },
   "cell_type": "code",
   "source": "problem5_samples = problem1_inversion_2(100000)",
   "id": "ef6f1f1063b7492c",
   "outputs": [],
   "execution_count": 317
  },
  {
   "metadata": {
    "ExecuteTime": {
     "end_time": "2025-01-16T12:25:04.339966Z",
     "start_time": "2025-01-16T12:25:04.335451Z"
    }
   },
   "cell_type": "code",
   "source": [
    "# This cell is just to check that you got the correct formats of your answer\n",
    "import numpy as np\n",
    "\n",
    "try:\n",
    "    assert (isinstance(problem1_inversion(10), np.ndarray))\n",
    "except:\n",
    "    print(\"Try again. You should return a numpy array from problem1_inversion\")\n",
    "else:\n",
    "    print(\"Good, your problem1_inversion returns a numpy array\")\n",
    "try:\n",
    "    assert (isinstance(problem1_samples, np.ndarray))\n",
    "except:\n",
    "    print(\"Try again. your problem1_samples is not a numpy array\")\n",
    "else:\n",
    "    print(\"Good, your problem1_samples is a numpy array\")\n",
    "try:\n",
    "    assert (isinstance(problem1_integral, float))\n",
    "except:\n",
    "    print(\"Try again. your problem1_integral is not a float\")\n",
    "else:\n",
    "    print(\"Good, your problem1_integral is a float\")\n",
    "try:\n",
    "    assert (isinstance(problem1_interval, list) or isinstance(problem1_interval,\n",
    "                                                              tuple)), \"problem1_interval not a tuple or list\"\n",
    "    assert (\n",
    "            len(problem1_interval) == 2), \"problem1_interval does not have length 2, it should have a lower bound and an upper bound\"\n",
    "except Exception as e:\n",
    "    print(e)\n",
    "else:\n",
    "    print(\"Good, your problem1_interval is a tuple or list of length 2\")\n",
    "try:\n",
    "    assert (isinstance(problem1_inversion_2(10), np.ndarray))\n",
    "except:\n",
    "    print(\"Try again. You should return a numpy array from problem1_inversion_2\")\n",
    "else:\n",
    "    print(\"Good, your problem1_inversion_2 returns a numpy array\")"
   ],
   "id": "70e1ed59b087eb6f",
   "outputs": [
    {
     "name": "stdout",
     "output_type": "stream",
     "text": [
      "Good, your problem1_inversion returns a numpy array\n",
      "Good, your problem1_samples is a numpy array\n",
      "Good, your problem1_integral is a float\n",
      "Good, your problem1_interval is a tuple or list of length 2\n",
      "Good, your problem1_inversion_2 returns a numpy array\n"
     ]
    }
   ],
   "execution_count": 318
  },
  {
   "metadata": {
    "ExecuteTime": {
     "end_time": "2025-01-16T13:51:35.214770Z",
     "start_time": "2025-01-16T13:51:35.197590Z"
    }
   },
   "cell_type": "code",
   "source": [
    "# PART 1\n",
    "#------------------------TRANSITION MATRIX -------------------------------\n",
    "# Answer each one by supplying the transition matrix as a numpy array\n",
    "# of shape (n_states,n_states), where state (A,B,...) corresponds to index (0,1,...)\n",
    "\n",
    "problem3_A = np.array([[0.8, 0.2, 0, 0], [0.6, 0.2, 0.2, 0], [0, 0.4, 0, 0.6], [0, 0, 0.8, 0.2]])\n",
    "problem3_B = np.array([[0, 0.2, 0, 0.8], [0, 0, 1, 0], [0, 1, 0, 0], [0.5, 0, 0.5, 0]])\n",
    "problem3_C = np.array(\n",
    "    [[0.2, 0.3, 0, 0, 0.5], [0.2, 0.2, 0.6, 0, 0], [0, 0.4, 0, 0.6, 0], [0, 0, 0, 0.6, 0.4], [0, 0, 0, 0.4, 0.6]])\n",
    "problem3_D = np.array([[0.8, 0.2, 0, 0], [0.6, 0.2, 0.2, 0], [0, 0.4, 0, 0.6], [0.1, 0, 0.7, 0.2]])"
   ],
   "id": "9068066993120426",
   "outputs": [],
   "execution_count": 327
  },
  {
   "metadata": {
    "ExecuteTime": {
     "end_time": "2025-01-16T13:51:36.237148Z",
     "start_time": "2025-01-16T13:51:36.229701Z"
    }
   },
   "cell_type": "code",
   "source": [
    "# PART 2\n",
    "#------------------------REDUCIBLE -------------------------------\n",
    "# Answer each one with a True or False\n",
    "\n",
    "problem3_A_irreducible = np.all(np.linalg.matrix_power(problem3_A, len(problem3_A[0])) > 0)\n",
    "problem3_B_irreducible = np.all(np.linalg.matrix_power(problem3_B, len(problem3_B[0])) > 0)\n",
    "problem3_C_irreducible = np.all(np.linalg.matrix_power(problem3_C, len(problem3_C[0])) > 0)\n",
    "problem3_D_irreducible = np.all(np.linalg.matrix_power(problem3_D, len(problem3_D[0])) > 0)"
   ],
   "id": "16557123920ac882",
   "outputs": [],
   "execution_count": 328
  },
  {
   "metadata": {
    "ExecuteTime": {
     "end_time": "2025-01-16T13:54:08.853919Z",
     "start_time": "2025-01-16T13:54:08.850183Z"
    }
   },
   "cell_type": "code",
   "source": [
    "\n",
    "\n",
    "\n",
    "def is_aperiodic(transition_matrix):\n",
    "    \"\"\"\n",
    "    Determines if a Markov chain with the given transition matrix is aperiodic.\n",
    "\n",
    "    Args:\n",
    "        transition_matrix (numpy.ndarray): The transition matrix.\n",
    "\n",
    "    Returns:\n",
    "        bool: True if the chain is aperiodic, False otherwise.\n",
    "    \"\"\"\n",
    "    n = len(transition_matrix)\n",
    "    periods = []\n",
    "\n",
    "    for state in range(n):\n",
    "        # Find all steps where the state can return to itself\n",
    "        visits = []\n",
    "        current_power = np.eye(n)  # Start with P^0\n",
    "        for step in range(1, n * n):  # Arbitrary large number of steps\n",
    "            current_power = np.dot(current_power, transition_matrix)  # Compute P^step\n",
    "            if current_power[state, state] > 0:  # Check if state can return\n",
    "                visits.append(step)\n",
    "\n",
    "        if not visits:\n",
    "            return False  # If no visits, the chain is not irreducible\n",
    "\n",
    "        # Compute GCD of all visits to determine period\n",
    "        state_period = reduce(gcd, visits)\n",
    "        periods.append(state_period)\n",
    "\n",
    "    # If the GCD of all state periods is 1, the chain is aperiodic\n",
    "    return reduce(gcd, periods) == 1"
   ],
   "id": "640385133f741d29",
   "outputs": [],
   "execution_count": 330
  },
  {
   "metadata": {
    "ExecuteTime": {
     "end_time": "2025-01-16T13:55:00.844466Z",
     "start_time": "2025-01-16T13:55:00.839180Z"
    }
   },
   "cell_type": "code",
   "source": [
    "import numpy as np\n",
    "\n",
    "\n",
    "def find_period(transition_matrix, state, max_steps=100):\n",
    "    \"\"\"\n",
    "    Finds the period of a given state in the Markov chain.\n",
    "\n",
    "    Args:\n",
    "        transition_matrix (numpy.ndarray): The transition matrix.\n",
    "        state (int): The state for which to compute the period.\n",
    "        max_steps (int): The maximum number of steps to consider.\n",
    "\n",
    "    Returns:\n",
    "        int: The period of the state.\n",
    "    \"\"\"\n",
    "    n = len(transition_matrix)\n",
    "    current_power = np.eye(n)  # Start with P^0 (identity matrix)\n",
    "    return_times = []\n",
    "\n",
    "    for step in range(1, max_steps + 1):\n",
    "        current_power = np.dot(current_power, transition_matrix)  # Compute P^step\n",
    "        if current_power[state, state] > 0:  # Check if the state can return\n",
    "            return_times.append(step)\n",
    "\n",
    "    if not return_times:\n",
    "        return None  # No returns found within max_steps\n",
    "\n",
    "    # Compute the GCD of all return times\n",
    "    return reduce(gcd, return_times)\n",
    "\n",
    "\n",
    "# Example usage\n",
    "P = np.array([\n",
    "    [0.5, 0.5, 0.0],\n",
    "    [0.5, 0.0, 0.5],\n",
    "    [0.0, 0.5, 0.5]\n",
    "])\n",
    "\n",
    "state = 0\n",
    "period = find_period(P, state)\n",
    "print(f\"The period of state {state} is {period}\")"
   ],
   "id": "e7aa45165f010eed",
   "outputs": [
    {
     "name": "stdout",
     "output_type": "stream",
     "text": [
      "The period of state 0 is 1\n"
     ]
    }
   ],
   "execution_count": 331
  },
  {
   "metadata": {
    "ExecuteTime": {
     "end_time": "2025-01-16T13:56:38.496066Z",
     "start_time": "2025-01-16T13:56:38.490336Z"
    }
   },
   "cell_type": "code",
   "source": [
    "# PART 3\n",
    "#------------------------APERIODIC-------------------------------\n",
    "# Answer each one with a True or False\n",
    "\n",
    "problem3_A_is_aperiodic = is_aperiodic(problem3_A)\n",
    "problem3_B_is_aperiodic = is_aperiodic(problem3_B)\n",
    "problem3_C_is_aperiodic = is_aperiodic(problem3_C)\n",
    "problem3_D_is_aperiodic = is_aperiodic(problem3_D)\n",
    "\n",
    "# Answer the following with the period of the states as a numpy array\n",
    "# of shape (n_states,)\n",
    "\n",
    "problem3_A_periods = np.array(find_period(problem3_A, 0))\n",
    "problem3_B_periods = find_period(problem3_B, 0)\n",
    "problem3_C_periods = find_period(problem3_C, 0)\n",
    "problem3_D_periods = find_period(problem3_D, 0)"
   ],
   "id": "de81fb9408e8f130",
   "outputs": [],
   "execution_count": 337
  },
  {
   "metadata": {
    "ExecuteTime": {
     "end_time": "2025-01-16T13:56:41.706876Z",
     "start_time": "2025-01-16T13:56:41.702864Z"
    }
   },
   "cell_type": "code",
   "source": "problem3_A_periods",
   "id": "d4401012f9e8d556",
   "outputs": [
    {
     "data": {
      "text/plain": [
       "array(1)"
      ]
     },
     "execution_count": 338,
     "metadata": {},
     "output_type": "execute_result"
    }
   ],
   "execution_count": 338
  },
  {
   "metadata": {
    "ExecuteTime": {
     "end_time": "2025-01-16T14:00:21.961226Z",
     "start_time": "2025-01-16T14:00:21.947935Z"
    }
   },
   "cell_type": "code",
   "source": [
    "import numpy as np\n",
    "from math import gcd\n",
    "from functools import reduce\n",
    "\n",
    "\n",
    "def find_periods(transition_matrix, max_steps=100):\n",
    "    \"\"\"\n",
    "    Finds the periods of all states in the Markov chain.\n",
    "\n",
    "    Args:\n",
    "        transition_matrix (numpy.ndarray): Transition matrix of shape (n_states, n_states).\n",
    "        max_steps (int): Maximum number of steps to consider for computing the periods.\n",
    "\n",
    "    Returns:\n",
    "        numpy.ndarray: Array of periods for each state.\n",
    "    \"\"\"\n",
    "    n_states = len(transition_matrix)\n",
    "    periods = []\n",
    "\n",
    "    for state in range(n_states):\n",
    "        current_power = np.eye(n_states)\n",
    "        return_times = []\n",
    "\n",
    "        for step in range(1, max_steps + 1):\n",
    "            current_power = np.dot(current_power, transition_matrix)\n",
    "            if current_power[state, state] > 0:\n",
    "                return_times.append(step)\n",
    "\n",
    "        if return_times:\n",
    "            periods.append(reduce(gcd, return_times))\n",
    "        else:\n",
    "            periods.append(None)  # No return found within max_steps\n",
    "\n",
    "    return np.array(periods)\n",
    "\n",
    "\n",
    "def is_aperiodic(periods):\n",
    "    \"\"\"\n",
    "    Checks if the Markov chain is aperiodic based on the periods.\n",
    "\n",
    "    Args:\n",
    "        periods (numpy.ndarray): Array of periods for each state.\n",
    "\n",
    "    Returns:\n",
    "        bool: True if all states have a period of 1, False otherwise.\n",
    "    \"\"\"\n",
    "    return np.all(periods == 1)\n",
    "\n",
    "\n",
    "# Transition matrices\n",
    "problem3_A = np.array([[0.8, 0.2, 0, 0], [0.6, 0.2, 0.2, 0], [0, 0.4, 0, 0.6], [0, 0, 0.8, 0.2]])\n",
    "problem3_B = np.array([[0, 0.2, 0, 0.8], [0, 0, 1, 0], [0, 1, 0, 0], [0.5, 0, 0.5, 0]])\n",
    "problem3_C = np.array(\n",
    "    [[0.2, 0.3, 0, 0, 0.5], [0.2, 0.2, 0.6, 0, 0], [0, 0.4, 0, 0.6, 0], [0, 0, 0, 0.6, 0.4], [0, 0, 0, 0.4, 0.6]])\n",
    "problem3_D = np.array([[0.8, 0.2, 0, 0], [0.6, 0.2, 0.2, 0], [0, 0.4, 0, 0.6], [0.1, 0, 0.7, 0.2]])\n",
    "\n",
    "# Compute periods\n",
    "problem3_A_periods = find_periods(problem3_A)\n",
    "problem3_B_periods = find_periods(problem3_B)\n",
    "problem3_C_periods = find_periods(problem3_C)\n",
    "problem3_D_periods = find_periods(problem3_D)\n",
    "\n",
    "# Check aperiodicity\n",
    "problem3_A_is_aperiodic = is_aperiodic(problem3_A_periods)\n",
    "problem3_B_is_aperiodic = is_aperiodic(problem3_B_periods)\n",
    "problem3_C_is_aperiodic = is_aperiodic(problem3_C_periods)\n",
    "problem3_D_is_aperiodic = is_aperiodic(problem3_D_periods)\n",
    "\n",
    "# Outputs\n",
    "print(\"Aperiodic Check:\")\n",
    "print(f\"problem3_A_is_aperiodic = {problem3_A_is_aperiodic}\")\n",
    "print(f\"problem3_B_is_aperiodic = {problem3_B_is_aperiodic}\")\n",
    "print(f\"problem3_C_is_aperiodic = {problem3_C_is_aperiodic}\")\n",
    "print(f\"problem3_D_is_aperiodic = {problem3_D_is_aperiodic}\")\n",
    "\n",
    "print(\"\\nPeriods:\")\n",
    "print(f\"problem3_A_periods = {problem3_A_periods}\")\n",
    "print(f\"problem3_B_periods = {problem3_B_periods}\")\n",
    "print(f\"problem3_C_periods = {problem3_C_periods}\")\n",
    "print(f\"problem3_D_periods = {problem3_D_periods}\")"
   ],
   "id": "781ad5de1b98850d",
   "outputs": [
    {
     "name": "stdout",
     "output_type": "stream",
     "text": [
      "Aperiodic Check:\n",
      "problem3_A_is_aperiodic = True\n",
      "problem3_B_is_aperiodic = False\n",
      "problem3_C_is_aperiodic = True\n",
      "problem3_D_is_aperiodic = True\n",
      "\n",
      "Periods:\n",
      "problem3_A_periods = [1 1 1 1]\n",
      "problem3_B_periods = [2 2 2 2]\n",
      "problem3_C_periods = [1 1 1 1 1]\n",
      "problem3_D_periods = [1 1 1 1]\n"
     ]
    }
   ],
   "execution_count": 339
  },
  {
   "metadata": {},
   "cell_type": "code",
   "outputs": [],
   "execution_count": null,
   "source": [
    "\n",
    "\n",
    "\n",
    "def stationary_distribution(P):\n",
    "    \"\"\"\n",
    "    Compute the stationary distribution of a Markov chain, if it exists.\n",
    "\n",
    "    Args:\n",
    "        P (numpy.ndarray): Transition matrix (n_states x n_states).\n",
    "\n",
    "    Returns:\n",
    "        tuple: (has_stationary, stationary_distribution)\n",
    "               - has_stationary (bool): True if stationary distribution exists.\n",
    "               - stationary_distribution (numpy.ndarray or False): Stationary distribution\n",
    "                 vector, or False if it doesn't exist.\n",
    "    \"\"\"\n",
    "    n_states = P.shape[0]\n",
    "\n",
    "    # Check irreducibility and aperiodicity\n",
    "    has_stationary = is_irreducible(P) and is_aperiodic(P)\n",
    "    if not has_stationary:\n",
    "        return False, False\n",
    "\n",
    "    # Solve for stationary distribution\n",
    "    A = np.vstack((P.T - np.eye(n_states), np.ones(n_states)))\n",
    "    b = np.append(np.zeros(n_states), 1)\n",
    "\n",
    "    try:\n",
    "        stationary_dist = np.linalg.lstsq(A, b, rcond=None)[0]\n",
    "        return True, stationary_dist\n",
    "    except np.linalg.LinAlgError:\n",
    "        return False, False\n",
    "\n",
    "\n",
    "def is_irreducible(P):\n",
    "    \"\"\"\n",
    "    Check if the Markov chain is irreducible.\n",
    "\n",
    "    Args:\n",
    "        P (numpy.ndarray): Transition matrix.\n",
    "\n",
    "    Returns:\n",
    "        bool: True if irreducible, False otherwise.\n",
    "    \"\"\"\n",
    "    n_states = len(P)\n",
    "    reachability = np.linalg.matrix_power(P, n_states - 1) > 0\n",
    "    return np.all(reachability)\n",
    "\n",
    "\n",
    "def is_aperiodic(P):\n",
    "    \"\"\"\n",
    "    Check if the Markov chain is aperiodic.\n",
    "\n",
    "    Args:\n",
    "        P (numpy.ndarray): Transition matrix.\n",
    "\n",
    "    Returns:\n",
    "        bool: True if aperiodic, False otherwise.\n",
    "    \"\"\"\n",
    "    periods = find_state_periods(P)\n",
    "    return all(period == 1 for period in periods)"
   ],
   "id": "f80f4dbe37c8cfc6"
  },
  {
   "metadata": {
    "ExecuteTime": {
     "end_time": "2025-01-16T16:31:27.483869Z",
     "start_time": "2025-01-16T16:31:27.471339Z"
    }
   },
   "cell_type": "code",
   "source": [
    "import numpy as np\n",
    "\n",
    "\n",
    "class MarkovChain:\n",
    "    def __init__(self, transition_matrix):\n",
    "        \"\"\"\n",
    "        Initialize the MarkovChain class with a given transition matrix.\n",
    "\n",
    "        Args:\n",
    "            transition_matrix (numpy.ndarray): The transition matrix of the Markov chain.\n",
    "        \"\"\"\n",
    "        self.P = np.array(transition_matrix)\n",
    "        self.n_states = self.P.shape[0]\n",
    "        if self.P.shape[0] != self.P.shape[1]:\n",
    "            raise ValueError(\"Transition matrix must be square.\")\n",
    "\n",
    "    def is_irreducible(self):\n",
    "        \"\"\"\n",
    "        Check if the Markov chain is irreducible.\n",
    "\n",
    "        Returns:\n",
    "            bool: True if irreducible, False otherwise.\n",
    "        \"\"\"\n",
    "        reachability = np.linalg.matrix_power(self.P, self.n_states - 1) > 0\n",
    "        return np.all(reachability)\n",
    "\n",
    "    def is_aperiodic(self):\n",
    "        \"\"\"\n",
    "        Check if the Markov chain is aperiodic.\n",
    "\n",
    "        Returns:\n",
    "            tuple: (bool, numpy.ndarray)\n",
    "                - bool: True if the Markov chain is aperiodic, False otherwise.\n",
    "                - numpy.ndarray: Periods of each state.\n",
    "        \"\"\"\n",
    "\n",
    "        def gcd(a, b):\n",
    "            while b:\n",
    "                a, b = b, a % b\n",
    "            return a\n",
    "\n",
    "        def lcm(a, b):\n",
    "            return a * b // gcd(a, b)\n",
    "\n",
    "        periods = np.zeros(self.n_states, dtype=int)\n",
    "        for state in range(self.n_states):\n",
    "            visited = set()\n",
    "            stack = [(state, 0)]\n",
    "            while stack:\n",
    "                current, depth = stack.pop()\n",
    "                if current == state and depth > 0:\n",
    "                    periods[state] = gcd(periods[state], depth) if periods[state] else depth\n",
    "                elif current not in visited:\n",
    "                    visited.add(current)\n",
    "                    neighbors = np.where(self.P[current] > 0)[0]\n",
    "                    stack.extend((neighbor, depth + 1) for neighbor in neighbors)\n",
    "        aperiodic = np.all(periods == 1)\n",
    "        return aperiodic, periods\n",
    "\n",
    "    def stationary_distribution(self):\n",
    "        \"\"\"\n",
    "        Compute the stationary distribution of the Markov chain, if it exists.\n",
    "\n",
    "        Returns:\n",
    "            tuple: (bool, numpy.ndarray or None)\n",
    "                - bool: True if the Markov chain has a stationary distribution, False otherwise.\n",
    "                - numpy.ndarray or None: The stationary distribution vector if it exists, otherwise None.\n",
    "        \"\"\"\n",
    "        if not self.is_irreducible():\n",
    "            return False, None\n",
    "        A = np.vstack((self.P.T - np.eye(self.n_states), np.ones(self.n_states)))\n",
    "        b = np.append(np.zeros(self.n_states), 1)\n",
    "        try:\n",
    "            stationary_dist = np.linalg.lstsq(A, b, rcond=None)[0]\n",
    "            return True, stationary_dist\n",
    "        except np.linalg.LinAlgError:\n",
    "            return False, None\n",
    "\n",
    "    def is_reversible(self):\n",
    "        \"\"\"\n",
    "        Check if the Markov chain is reversible.\n",
    "\n",
    "        Returns:\n",
    "            bool: True if reversible, False otherwise.\n",
    "        \"\"\"\n",
    "        has_stationary, stationary_dist = self.stationary_distribution()\n",
    "        if not has_stationary:\n",
    "            return False\n",
    "        for i in range(self.n_states):\n",
    "            for j in range(self.n_states):\n",
    "                if not np.isclose(stationary_dist[i] * self.P[i, j], stationary_dist[j] * self.P[j, i]):\n",
    "                    return False\n",
    "        return True\n",
    "\n",
    "    def analyze(self):\n",
    "        \"\"\"\n",
    "        Analyze the Markov chain and return all results.\n",
    "\n",
    "        Returns:\n",
    "            dict: A dictionary with results for all questions.\n",
    "        \"\"\"\n",
    "        irreducible = self.is_irreducible()\n",
    "        aperiodic, periods = self.is_aperiodic()\n",
    "        has_stationary, stationary_dist = self.stationary_distribution()\n",
    "        reversible = self.is_reversible()\n",
    "        return {\n",
    "            \"Transition Matrix\": self.P,\n",
    "            \"Irreducible\": irreducible,\n",
    "            \"Aperiodic\": aperiodic,\n",
    "            \"Periods\": periods,\n",
    "            \"Has Stationary Distribution\": has_stationary,\n",
    "            \"Stationary Distribution\": stationary_dist if has_stationary else None,\n",
    "            \"Reversible\": reversible,\n",
    "        }"
   ],
   "id": "9a9e1e29eaf221ff",
   "outputs": [],
   "execution_count": 340
  },
  {
   "metadata": {
    "ExecuteTime": {
     "end_time": "2025-01-16T16:31:34.580694Z",
     "start_time": "2025-01-16T16:31:34.562804Z"
    }
   },
   "cell_type": "code",
   "source": [
    "# Example Transition Matrix\n",
    "P = np.array([\n",
    "    [0.8, 0.2, 0.0],\n",
    "    [0.1, 0.7, 0.2],\n",
    "    [0.0, 0.3, 0.7]\n",
    "])\n",
    "\n",
    "# Create a MarkovChain object\n",
    "mc = MarkovChain(P)\n",
    "\n",
    "# Analyze the Markov chain\n",
    "results = mc.analyze()\n",
    "\n",
    "# Print results\n",
    "for key, value in results.items():\n",
    "    print(f\"{key}: {value}\")"
   ],
   "id": "94609b885b962c0f",
   "outputs": [
    {
     "name": "stdout",
     "output_type": "stream",
     "text": [
      "Transition Matrix: [[0.8 0.2 0. ]\n",
      " [0.1 0.7 0.2]\n",
      " [0.  0.3 0.7]]\n",
      "Irreducible: True\n",
      "Aperiodic: True\n",
      "Periods: [1 1 1]\n",
      "Has Stationary Distribution: True\n",
      "Stationary Distribution: [0.23076923 0.46153846 0.30769231]\n",
      "Reversible: True\n"
     ]
    }
   ],
   "execution_count": 341
  }
 ],
 "metadata": {
  "kernelspec": {
   "display_name": "Python 3",
   "language": "python",
   "name": "python3"
  },
  "language_info": {
   "codemirror_mode": {
    "name": "ipython",
    "version": 2
   },
   "file_extension": ".py",
   "mimetype": "text/x-python",
   "name": "python",
   "nbconvert_exporter": "python",
   "pygments_lexer": "ipython2",
   "version": "2.7.6"
  }
 },
 "nbformat": 4,
 "nbformat_minor": 5
}
