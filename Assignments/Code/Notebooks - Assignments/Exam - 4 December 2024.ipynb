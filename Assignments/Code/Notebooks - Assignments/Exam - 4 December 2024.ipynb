{
 "cells": [
  {
   "metadata": {
    "ExecuteTime": {
     "end_time": "2025-01-16T17:26:12.007603Z",
     "start_time": "2025-01-16T17:26:11.810278Z"
    }
   },
   "cell_type": "code",
   "source": [
    "import pandas as pd\n",
    "\n",
    "# Load the dataset\n",
    "flights_df = pd.read_csv('data/flights.csv')\n",
    "\n",
    "# Display the first few rows to understand the structure\n",
    "print(flights_df.head())\n",
    "\n",
    "# Extract the unique cities (starting cities and ending cities)\n",
    "cities = sorted(set(flights_df['from']).union(set(flights_df['to'])))\n",
    "\n",
    "# Assign the variables\n",
    "n_cities = len(cities)  # Number of unique cities\n",
    "start_cities = flights_df['from'].values  # Starting cities for each flight\n",
    "end_cities = flights_df['to'].values  # Ending cities for each flight"
   ],
   "id": "7d07fad9126bff54",
   "outputs": [
    {
     "name": "stdout",
     "output_type": "stream",
     "text": [
      "   travelCode  userCode                from                  to  flightType  \\\n",
      "0           0         0         Recife (PE)  Florianopolis (SC)  firstClass   \n",
      "1           0         0  Florianopolis (SC)         Recife (PE)  firstClass   \n",
      "2           1         0       Brasilia (DF)  Florianopolis (SC)  firstClass   \n",
      "3           1         0  Florianopolis (SC)       Brasilia (DF)  firstClass   \n",
      "4           2         0        Aracaju (SE)       Salvador (BH)  firstClass   \n",
      "\n",
      "     price  time  distance       agency        date  \n",
      "0  1434.38  1.76    676.53  FlyingDrops  09/26/2019  \n",
      "1  1292.29  1.76    676.53  FlyingDrops  09/30/2019  \n",
      "2  1487.52  1.66    637.56      CloudFy  10/03/2019  \n",
      "3  1127.36  1.66    637.56      CloudFy  10/04/2019  \n",
      "4  1684.05  2.16    830.86      CloudFy  10/10/2019  \n"
     ]
    }
   ],
   "execution_count": 3
  },
  {
   "metadata": {
    "ExecuteTime": {
     "end_time": "2025-01-16T17:26:16.942825Z",
     "start_time": "2025-01-16T17:26:16.851363Z"
    }
   },
   "cell_type": "code",
   "source": [
    "import numpy as np\n",
    "\n",
    "# Create a city-to-index mapping\n",
    "city_index = {city: idx for idx, city in enumerate(cities)}\n",
    "\n",
    "# Initialize a zero matrix of size n_cities x n_cities\n",
    "transition_matrix = np.zeros((n_cities, n_cities))\n",
    "\n",
    "# Populate the transition matrix with counts\n",
    "for start, end in zip(start_cities, end_cities):\n",
    "    start_idx = city_index[start]\n",
    "    end_idx = city_index[end]\n",
    "    transition_matrix[start_idx, end_idx] += 1\n",
    "\n",
    "# Normalize the matrix to get probabilities\n",
    "transition_matrix /= transition_matrix.sum(axis=1, keepdims=True)\n",
    "\n",
    "# Display the transition matrix\n",
    "print(\"Transition Matrix:\\n\", transition_matrix)"
   ],
   "id": "b1dae61c3562440f",
   "outputs": [
    {
     "name": "stdout",
     "output_type": "stream",
     "text": [
      "Transition Matrix:\n",
      " [[0.         0.12983559 0.14487965 0.23218891 0.1057651  0.13120567\n",
      "  0.07570385 0.07839029 0.10203095]\n",
      " [0.15702265 0.         0.14675591 0.25273726 0.09704669 0.12417557\n",
      "  0.06478443 0.06527178 0.09220572]\n",
      " [0.15520318 0.12999309 0.         0.23751007 0.1019627  0.12979164\n",
      "  0.0695004  0.07252216 0.10351675]\n",
      " [0.15079296 0.1357189  0.14398869 0.         0.11705079 0.13275294\n",
      "  0.10131375 0.10119162 0.11719036]\n",
      " [0.16544797 0.1255253  0.14889057 0.28193814 0.         0.12161708\n",
      "  0.03992268 0.0389141  0.07774416]\n",
      " [0.16023622 0.1253937  0.14796588 0.24963911 0.09494751 0.\n",
      "  0.06223753 0.06404199 0.09553806]\n",
      " [0.16758846 0.1185846  0.14362177 0.34534642 0.05649718 0.11281594\n",
      "  0.         0.         0.05554564]\n",
      " [0.17060337 0.1174579  0.14733396 0.33910196 0.05413938 0.11412535\n",
      "  0.         0.         0.05723807]\n",
      " [0.1607619  0.12012698 0.15225397 0.28431746 0.07830688 0.12325926\n",
      "  0.03953439 0.04143915 0.        ]]\n"
     ]
    }
   ],
   "execution_count": 4
  },
  {
   "metadata": {
    "ExecuteTime": {
     "end_time": "2025-01-16T17:26:21.826962Z",
     "start_time": "2025-01-16T17:26:21.818300Z"
    }
   },
   "cell_type": "code",
   "source": [
    "# To find the stationary distribution, we need the eigenvector of the transition matrix corresponding to eigenvalue 1\n",
    "eigvals, eigvecs = np.linalg.eig(transition_matrix.T)\n",
    "\n",
    "# The eigenvector corresponding to eigenvalue 1 is the stationary distribution\n",
    "stationary_dist = eigvecs[:, np.isclose(eigvals, 1)].flatten()\n",
    "\n",
    "# Normalize the stationary distribution\n",
    "stationary_dist /= stationary_dist.sum()\n",
    "\n",
    "# Display the stationary distribution\n",
    "print(\"Stationary Distribution:\", stationary_dist)"
   ],
   "id": "73b7a4f1e17523f7",
   "outputs": [
    {
     "name": "stdout",
     "output_type": "stream",
     "text": [
      "Stationary Distribution: [0.13690932 0.1132047  0.12780262 0.21081107 0.08752133 0.11210498\n",
      " 0.06184532 0.06290826 0.0868924 ]\n"
     ]
    }
   ],
   "execution_count": 5
  },
  {
   "metadata": {
    "ExecuteTime": {
     "end_time": "2025-01-16T17:26:25.826099Z",
     "start_time": "2025-01-16T17:26:25.821898Z"
    }
   },
   "cell_type": "code",
   "source": [
    "# Find the index for 'Aracaju (SE)'\n",
    "aracaju_idx = city_index['Aracaju (SE)']\n",
    "\n",
    "# Compute P^3 by raising the transition matrix to the power of 3\n",
    "transition_matrix_3_steps = np.linalg.matrix_power(transition_matrix, 3)\n",
    "\n",
    "# Get the probability of returning to 'Aracaju (SE)' after 3 steps\n",
    "prob_return_to_aracaju = transition_matrix_3_steps[aracaju_idx, aracaju_idx]\n",
    "\n",
    "print(f\"Probability of returning to 'Aracaju (SE)' after 3 steps: {prob_return_to_aracaju}\")"
   ],
   "id": "c4d810b3ad100d50",
   "outputs": [
    {
     "name": "stdout",
     "output_type": "stream",
     "text": [
      "Probability of returning to 'Aracaju (SE)' after 3 steps: 0.13331717737273135\n"
     ]
    }
   ],
   "execution_count": 6
  }
 ],
 "metadata": {
  "kernelspec": {
   "display_name": "Python 3",
   "language": "python",
   "name": "python3"
  },
  "language_info": {
   "codemirror_mode": {
    "name": "ipython",
    "version": 2
   },
   "file_extension": ".py",
   "mimetype": "text/x-python",
   "name": "python",
   "nbconvert_exporter": "python",
   "pygments_lexer": "ipython2",
   "version": "2.7.6"
  }
 },
 "nbformat": 4,
 "nbformat_minor": 5
}
