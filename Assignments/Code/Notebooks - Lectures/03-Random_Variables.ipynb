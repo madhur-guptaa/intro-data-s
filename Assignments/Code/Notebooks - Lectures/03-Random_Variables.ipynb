{
 "cells": [
  {
   "cell_type": "markdown",
   "id": "b323fefd",
   "metadata": {
    "deletable": false
   },
   "source": [
    "# [Introduction to Data Science](http://datascience-intro.github.io/1MS041-2024/)    \n",
    "## 1MS041, 2024 \n",
    "&copy;2024 Raazesh Sainudiin, Benny Avelin. [Attribution 4.0 International     (CC BY 4.0)](https://creativecommons.org/licenses/by/4.0/)"
   ]
  },
  {
   "cell_type": "markdown",
   "id": "f640a563",
   "metadata": {},
   "source": [
    "## Second notebook on Random variables\n",
    "\n",
    "Lets take a look again at the spam dataset and look at our concepts there"
   ]
  },
  {
   "cell_type": "code",
   "id": "46083ad3",
   "metadata": {
    "ExecuteTime": {
     "end_time": "2025-01-15T13:05:45.092596Z",
     "start_time": "2025-01-15T13:05:45.083508Z"
    }
   },
   "source": [
    "from Utils import load_sms\n",
    "\n",
    "sms_data = load_sms()\n",
    "sms_data[:2]"
   ],
   "outputs": [
    {
     "data": {
      "text/plain": [
       "[('Go until jurong point, crazy.. Available only in bugis n great world la e buffet... Cine there got amore wat...',\n",
       "  0),\n",
       " ('Ok lar... Joking wif u oni...', 0)]"
      ]
     },
     "execution_count": 1,
     "metadata": {},
     "output_type": "execute_result"
    }
   ],
   "execution_count": 1
  },
  {
   "cell_type": "markdown",
   "id": "bb119585",
   "metadata": {},
   "source": [
    "Let X represents each SMS text (an entry in the list), and let $Y$ represent whether text is spam or not i.e. $Y \\in \\{0,1\\}$. Thus $\\mathbb{P}(Y = 1)$ is the probability that we get a spam. The goal is to estimate:\n",
    "$$\n",
    "    \\mathbb{P}(Y = 1 | \\text{\"free\" or \"prize\" is in } X) \\enspace .\n",
    "$$\n",
    "That is, the probability that the SMS is spam given that \"free\" or \"prize\" occurs in the SMS. \n",
    "Hint: it is good to remove the upper/lower case of words so that we can also find \"Free\" and \"Prize\"; this can be done with `text.lower()` if `text` a string.\n",
    "\n",
    "To do this we can create a new random variable $Z$ which is $1$ if \"free\" or \"prize\" appears in $X$."
   ]
  },
  {
   "cell_type": "code",
   "id": "074bd546",
   "metadata": {
    "ExecuteTime": {
     "end_time": "2025-01-15T13:05:45.107417Z",
     "start_time": "2025-01-15T13:05:45.096519Z"
    }
   },
   "source": [
    "interesting_words = set(['free', 'prize'])\n",
    "TF10 = {True: 1, False: 0}\n",
    "Z_obs = [TF10[not interesting_words.isdisjoint([word.lower() for word in line[0].split(' ')])] for line in sms_data]"
   ],
   "outputs": [],
   "execution_count": 2
  },
  {
   "cell_type": "code",
   "id": "2d83f9a2",
   "metadata": {
    "ExecuteTime": {
     "end_time": "2025-01-15T13:05:45.171889Z",
     "start_time": "2025-01-15T13:05:45.169366Z"
    }
   },
   "source": [
    "Z_obs[:10]"
   ],
   "outputs": [
    {
     "data": {
      "text/plain": [
       "[0, 0, 1, 0, 0, 0, 0, 0, 1, 1]"
      ]
     },
     "execution_count": 3,
     "metadata": {},
     "output_type": "execute_result"
    }
   ],
   "execution_count": 3
  },
  {
   "cell_type": "code",
   "id": "3bb642e5",
   "metadata": {
    "ExecuteTime": {
     "end_time": "2025-01-15T13:05:45.180059Z",
     "start_time": "2025-01-15T13:05:45.177671Z"
    }
   },
   "source": [
    "Y_obs = [y for x, y in sms_data]\n",
    "Y_obs[:10]"
   ],
   "outputs": [
    {
     "data": {
      "text/plain": [
       "[0, 0, 1, 0, 0, 1, 0, 0, 1, 1]"
      ]
     },
     "execution_count": 4,
     "metadata": {},
     "output_type": "execute_result"
    }
   ],
   "execution_count": 4
  },
  {
   "cell_type": "code",
   "id": "40e64960",
   "metadata": {
    "ExecuteTime": {
     "end_time": "2025-01-15T13:05:45.236147Z",
     "start_time": "2025-01-15T13:05:45.195368Z"
    }
   },
   "source": [
    "import numpy as np\n",
    "\n",
    "\n",
    "def F_X_12(x):\n",
    "    TF10 = {True: 1, False: 0}\n",
    "    return np.mean([TF10[(y <= x[0]) and (z <= x[1])] for y, z in zip(Y_obs, Z_obs)])"
   ],
   "outputs": [],
   "execution_count": 5
  },
  {
   "cell_type": "code",
   "id": "e6f92c71",
   "metadata": {
    "ExecuteTime": {
     "end_time": "2025-01-15T13:05:45.243391Z",
     "start_time": "2025-01-15T13:05:45.240670Z"
    }
   },
   "source": "F_X_12([1, 0])",
   "outputs": [
    {
     "data": {
      "text/plain": [
       "np.float64(0.9551328068916008)"
      ]
     },
     "execution_count": 6,
     "metadata": {},
     "output_type": "execute_result"
    }
   ],
   "execution_count": 6
  },
  {
   "cell_type": "markdown",
   "id": "408ae961",
   "metadata": {},
   "source": [
    "This is the JDF for this problem"
   ]
  },
  {
   "cell_type": "code",
   "id": "b856ee1e",
   "metadata": {
    "ExecuteTime": {
     "end_time": "2025-01-15T13:05:45.257740Z",
     "start_time": "2025-01-15T13:05:45.253606Z"
    }
   },
   "source": [
    "print(\"\\tz <= 0 \\t\\tz <= 1\")\n",
    "for x1 in range(0, 2):\n",
    "    print(\"y <= %d \\t\" % x1, end='')\n",
    "    for x2 in range(0, 2):\n",
    "        print(\"%.2f\" % (F_X_12((x1, x2))), end='\\t\\t')\n",
    "    print('\\n')"
   ],
   "outputs": [
    {
     "name": "stdout",
     "output_type": "stream",
     "text": [
      "\tz <= 0 \t\tz <= 1\n",
      "y <= 0 \t0.86\t\t0.87\t\t\n",
      "\n",
      "y <= 1 \t0.96\t\t1.00\t\t\n",
      "\n"
     ]
    }
   ],
   "execution_count": 7
  },
  {
   "cell_type": "code",
   "id": "2f9f28e4",
   "metadata": {
    "ExecuteTime": {
     "end_time": "2025-01-15T13:05:45.277520Z",
     "start_time": "2025-01-15T13:05:45.274322Z"
    }
   },
   "source": "F_X_12((1, 0))",
   "outputs": [
    {
     "data": {
      "text/plain": [
       "np.float64(0.9551328068916008)"
      ]
     },
     "execution_count": 8,
     "metadata": {},
     "output_type": "execute_result"
    }
   ],
   "execution_count": 8
  },
  {
   "cell_type": "code",
   "id": "0992b566",
   "metadata": {
    "ExecuteTime": {
     "end_time": "2025-01-15T13:05:45.293204Z",
     "start_time": "2025-01-15T13:05:45.289511Z"
    }
   },
   "source": "F_X_12((0, 0)) == F_X_12((0, 1)) * F_X_12((1, 0))",
   "outputs": [
    {
     "data": {
      "text/plain": [
       "np.False_"
      ]
     },
     "execution_count": 9,
     "metadata": {},
     "output_type": "execute_result"
    }
   ],
   "execution_count": 9
  },
  {
   "cell_type": "code",
   "id": "236c531b",
   "metadata": {
    "ExecuteTime": {
     "end_time": "2025-01-15T13:05:45.316548Z",
     "start_time": "2025-01-15T13:05:45.312851Z"
    }
   },
   "source": "F_X_12((0, 1)) * F_X_12((1, 0))",
   "outputs": [
    {
     "data": {
      "text/plain": [
       "np.float64(0.8270846721557743)"
      ]
     },
     "execution_count": 10,
     "metadata": {},
     "output_type": "execute_result"
    }
   ],
   "execution_count": 10
  },
  {
   "cell_type": "code",
   "id": "d6246c1e",
   "metadata": {
    "ExecuteTime": {
     "end_time": "2025-01-15T13:05:45.346871Z",
     "start_time": "2025-01-15T13:05:45.344785Z"
    }
   },
   "source": [
    "# Are they independent? If so, then the JDF is just the product of the\n",
    "# DFs for Y and Z, but\n",
    "0.865936826992103 * 0.955132806891601"
   ],
   "outputs": [
    {
     "data": {
      "text/plain": [
       "0.827084672155774"
      ]
     },
     "execution_count": 11,
     "metadata": {},
     "output_type": "execute_result"
    }
   ],
   "execution_count": 11
  },
  {
   "cell_type": "markdown",
   "id": "d942a608",
   "metadata": {},
   "source": [
    "Which is not 0.858, so they are not independent. So lets try to estimate the probability that $Y=1$ given that $Z = 1$. Lets again do that by filtering"
   ]
  },
  {
   "cell_type": "code",
   "id": "98afc79d",
   "metadata": {
    "ExecuteTime": {
     "end_time": "2025-01-15T13:05:45.374070Z",
     "start_time": "2025-01-15T13:05:45.371466Z"
    }
   },
   "source": "np.mean([y for z, y in zip(Z_obs, Y_obs) if z == 1])",
   "outputs": [
    {
     "data": {
      "text/plain": [
       "np.float64(0.812)"
      ]
     },
     "execution_count": 12,
     "metadata": {},
     "output_type": "execute_result"
    }
   ],
   "execution_count": 12
  },
  {
   "cell_type": "markdown",
   "id": "79731699",
   "metadata": {},
   "source": [
    "Compare that with the marginal probability of $Y = 1$, which is according to our JDF 1-0.866 = 0.134"
   ]
  },
  {
   "cell_type": "code",
   "id": "7fb6c482",
   "metadata": {
    "ExecuteTime": {
     "end_time": "2025-01-15T13:05:45.393612Z",
     "start_time": "2025-01-15T13:05:45.390773Z"
    }
   },
   "source": [
    "# Or we can just compute it directly\n",
    "np.mean(Y_obs)"
   ],
   "outputs": [
    {
     "data": {
      "text/plain": [
       "np.float64(0.13406317300789664)"
      ]
     },
     "execution_count": 13,
     "metadata": {},
     "output_type": "execute_result"
    }
   ],
   "execution_count": 13
  },
  {
   "cell_type": "markdown",
   "id": "1b5364a7",
   "metadata": {},
   "source": [
    "What we see from this is that knowing that the words \"free\" or \"prize\" appeared in the sms text, we are much more certain that it is a spam. We also see that looking directly at the JDF this can be hard to see, although it is equivalent."
   ]
  },
  {
   "cell_type": "code",
   "id": "db2e426e",
   "metadata": {
    "ExecuteTime": {
     "end_time": "2025-01-15T13:05:45.420859Z",
     "start_time": "2025-01-15T13:05:45.410159Z"
    }
   },
   "source": [
    "x = np.random.normal(size=100)"
   ],
   "outputs": [],
   "execution_count": 14
  },
  {
   "cell_type": "code",
   "id": "fd306dd2",
   "metadata": {
    "ExecuteTime": {
     "end_time": "2025-01-15T13:05:45.428653Z",
     "start_time": "2025-01-15T13:05:45.426298Z"
    }
   },
   "source": [
    "np.mean(x)"
   ],
   "outputs": [
    {
     "data": {
      "text/plain": [
       "np.float64(-0.016589811799906623)"
      ]
     },
     "execution_count": 15,
     "metadata": {},
     "output_type": "execute_result"
    }
   ],
   "execution_count": 15
  },
  {
   "cell_type": "code",
   "id": "72f9425b",
   "metadata": {
    "ExecuteTime": {
     "end_time": "2025-01-15T13:05:45.443016Z",
     "start_time": "2025-01-15T13:05:45.441271Z"
    }
   },
   "source": "g = lambda x: x ** 2",
   "outputs": [],
   "execution_count": 16
  },
  {
   "cell_type": "code",
   "id": "7433a956",
   "metadata": {
    "ExecuteTime": {
     "end_time": "2025-01-15T13:05:45.455757Z",
     "start_time": "2025-01-15T13:05:45.453425Z"
    }
   },
   "source": [
    "mean = np.mean(x)\n",
    "y = x - mean\n",
    "np.mean(y ** 4)"
   ],
   "outputs": [
    {
     "data": {
      "text/plain": [
       "np.float64(4.550978646517943)"
      ]
     },
     "execution_count": 17,
     "metadata": {},
     "output_type": "execute_result"
    }
   ],
   "execution_count": 17
  },
  {
   "cell_type": "markdown",
   "id": "c2ca6946",
   "metadata": {},
   "source": [
    "## Moments etc"
   ]
  },
  {
   "cell_type": "code",
   "id": "9cd452b7",
   "metadata": {
    "ExecuteTime": {
     "end_time": "2025-01-15T13:05:45.475275Z",
     "start_time": "2025-01-15T13:05:45.473287Z"
    }
   },
   "source": [
    "import numpy as np\n",
    "\n",
    "x = np.random.normal(size=100)"
   ],
   "outputs": [],
   "execution_count": 18
  },
  {
   "cell_type": "code",
   "id": "58e096b6",
   "metadata": {
    "scrolled": true,
    "ExecuteTime": {
     "end_time": "2025-01-15T13:05:45.491035Z",
     "start_time": "2025-01-15T13:05:45.488397Z"
    }
   },
   "source": [
    "x"
   ],
   "outputs": [
    {
     "data": {
      "text/plain": [
       "array([-1.35730379,  0.43551896, -0.36317382,  0.32872728, -1.28280993,\n",
       "        0.18994275, -0.90202622, -0.4816999 ,  0.60793053, -0.51684483,\n",
       "       -0.6514042 , -0.53118649,  0.17926396, -1.28243446, -0.05874336,\n",
       "       -0.36405359,  1.38494016,  0.00711131, -0.30876994,  0.29266791,\n",
       "       -0.58861895,  0.44417287, -1.27772398, -1.21551721,  1.04606382,\n",
       "        0.06957944, -0.31909998,  1.24930518,  0.64843046, -0.23800259,\n",
       "       -0.31169579, -0.81802764,  1.1914789 , -1.20228973, -0.16895541,\n",
       "        0.44851363, -0.91944073,  0.85675683, -1.03515732,  0.87763411,\n",
       "       -0.48893526,  1.55409069, -0.19535075,  0.23334074,  0.82513946,\n",
       "       -0.611933  ,  0.37470995,  0.02269703, -0.59455958, -0.88140624,\n",
       "        0.34160401,  2.12942072,  0.56529213, -1.31995004,  0.86758029,\n",
       "        0.87540578, -0.00466487,  1.55318568, -1.5786105 ,  0.02428969,\n",
       "        0.66072096, -1.60243345,  2.08803523,  0.32706188,  1.87935775,\n",
       "        0.35304708,  1.16004885,  0.89418436,  0.91780017,  0.09011608,\n",
       "        0.35404637, -0.17305424, -1.76765076,  1.37410606,  0.59664104,\n",
       "       -0.37272264,  1.88110172,  0.34634846, -0.39994805, -1.4680253 ,\n",
       "       -0.13641072, -0.69710503,  0.24550709,  2.31916991, -0.66779049,\n",
       "       -0.37122516, -0.54235078, -0.68339538, -0.2098893 , -0.93973872,\n",
       "       -1.20101782, -0.03647684, -0.7119136 ,  0.6595039 ,  0.33460556,\n",
       "       -0.03670208, -0.16635116, -0.39536651, -0.3029581 , -0.54102231])"
      ]
     },
     "execution_count": 19,
     "metadata": {},
     "output_type": "execute_result"
    }
   ],
   "execution_count": 19
  },
  {
   "cell_type": "markdown",
   "id": "e49b695b",
   "metadata": {},
   "source": [
    "## Sample mean"
   ]
  },
  {
   "cell_type": "code",
   "id": "efaff7e7",
   "metadata": {
    "ExecuteTime": {
     "end_time": "2025-01-15T13:05:45.515197Z",
     "start_time": "2025-01-15T13:05:45.512808Z"
    }
   },
   "source": [
    "np.mean(x)"
   ],
   "outputs": [
    {
     "data": {
      "text/plain": [
       "np.float64(0.00812258238821369)"
      ]
     },
     "execution_count": 20,
     "metadata": {},
     "output_type": "execute_result"
    }
   ],
   "execution_count": 20
  },
  {
   "cell_type": "markdown",
   "id": "275037fd",
   "metadata": {},
   "source": [
    "## Sample variance"
   ]
  },
  {
   "cell_type": "code",
   "id": "d24101b3",
   "metadata": {
    "ExecuteTime": {
     "end_time": "2025-01-15T13:05:45.532487Z",
     "start_time": "2025-01-15T13:05:45.529896Z"
    }
   },
   "source": [
    "np.var(x)"
   ],
   "outputs": [
    {
     "data": {
      "text/plain": [
       "np.float64(0.7967606897106824)"
      ]
     },
     "execution_count": 21,
     "metadata": {},
     "output_type": "execute_result"
    }
   ],
   "execution_count": 21
  },
  {
   "cell_type": "markdown",
   "id": "424d638f",
   "metadata": {},
   "source": [
    "Or by doing it yourself"
   ]
  },
  {
   "cell_type": "code",
   "id": "f20cee48",
   "metadata": {
    "ExecuteTime": {
     "end_time": "2025-01-15T13:05:45.563056Z",
     "start_time": "2025-01-15T13:05:45.560752Z"
    }
   },
   "source": [
    "mu = np.mean(x)\n",
    "np.mean(np.power(x - mu, 2))"
   ],
   "outputs": [
    {
     "data": {
      "text/plain": [
       "np.float64(0.7967606897106824)"
      ]
     },
     "execution_count": 22,
     "metadata": {},
     "output_type": "execute_result"
    }
   ],
   "execution_count": 22
  },
  {
   "cell_type": "markdown",
   "id": "1bf37cf3",
   "metadata": {},
   "source": [
    "Higher moments, we can use `scipy`"
   ]
  },
  {
   "cell_type": "code",
   "id": "6913e441",
   "metadata": {
    "ExecuteTime": {
     "end_time": "2025-01-15T13:05:45.888792Z",
     "start_time": "2025-01-15T13:05:45.582198Z"
    }
   },
   "source": [
    "from scipy.stats import skew, kurtosis"
   ],
   "outputs": [],
   "execution_count": 23
  },
  {
   "cell_type": "code",
   "id": "42e817e1",
   "metadata": {
    "ExecuteTime": {
     "end_time": "2025-01-15T13:05:45.896628Z",
     "start_time": "2025-01-15T13:05:45.894072Z"
    }
   },
   "source": [
    "skew(x)"
   ],
   "outputs": [
    {
     "data": {
      "text/plain": [
       "np.float64(0.38149118907351104)"
      ]
     },
     "execution_count": 24,
     "metadata": {},
     "output_type": "execute_result"
    }
   ],
   "execution_count": 24
  },
  {
   "cell_type": "code",
   "id": "d019a424",
   "metadata": {
    "ExecuteTime": {
     "end_time": "2025-01-15T13:05:45.909249Z",
     "start_time": "2025-01-15T13:05:45.906628Z"
    }
   },
   "source": "kurtosis(x, fisher=False)",
   "outputs": [
    {
     "data": {
      "text/plain": [
       "np.float64(2.8151319038186173)"
      ]
     },
     "execution_count": 25,
     "metadata": {},
     "output_type": "execute_result"
    }
   ],
   "execution_count": 25
  },
  {
   "cell_type": "markdown",
   "id": "ed49b580",
   "metadata": {},
   "source": [
    "## Moments and tail behavior"
   ]
  },
  {
   "cell_type": "code",
   "id": "1f1515c8",
   "metadata": {
    "ExecuteTime": {
     "end_time": "2025-01-15T13:05:45.926476Z",
     "start_time": "2025-01-15T13:05:45.924633Z"
    }
   },
   "source": [
    "def standardize(data):\n",
    "    mean = np.mean(data)\n",
    "    std = np.sqrt(np.var(data))\n",
    "    return (data - mean) / std"
   ],
   "outputs": [],
   "execution_count": 26
  },
  {
   "cell_type": "code",
   "id": "792c4384",
   "metadata": {
    "ExecuteTime": {
     "end_time": "2025-01-15T13:05:46.215221Z",
     "start_time": "2025-01-15T13:05:45.940540Z"
    }
   },
   "source": [
    "import numpy as np\n",
    "\n",
    "chi2 = np.random.chisquare(4, size=10000)\n",
    "normal = np.random.normal(size=10000)\n",
    "import matplotlib.pyplot as plt\n",
    "\n",
    "_ = plt.hist(standardize(chi2), bins=50, alpha=0.5)\n",
    "_ = plt.hist(standardize(normal), bins=50, alpha=0.5)\n",
    "plt.xlim(-3, 5)"
   ],
   "outputs": [
    {
     "data": {
      "text/plain": [
       "(-3.0, 5.0)"
      ]
     },
     "execution_count": 27,
     "metadata": {},
     "output_type": "execute_result"
    },
    {
     "data": {
      "text/plain": [
       "<Figure size 640x480 with 1 Axes>"
      ],
      "image/png": "[encoded data removed]"
     },
     "metadata": {},
     "output_type": "display_data"
    }
   ],
   "execution_count": 27
  },
  {
   "cell_type": "code",
   "id": "3897c76d",
   "metadata": {
    "ExecuteTime": {
     "end_time": "2025-01-15T13:05:46.226221Z",
     "start_time": "2025-01-15T13:05:46.224140Z"
    }
   },
   "source": [
    "from scipy.stats import skew, kurtosis\n",
    "\n",
    "\n",
    "def print_basic_stats(data):\n",
    "    print(\"mean: %.2f\\tstd: %.2f\\tskew: %.2f\\tkurtosis: %.2f\" % (\n",
    "    np.mean(data), np.std(data), skew(data), kurtosis(data, fisher=False)))"
   ],
   "outputs": [],
   "execution_count": 28
  },
  {
   "cell_type": "code",
   "id": "bab37398",
   "metadata": {
    "ExecuteTime": {
     "end_time": "2025-01-15T13:05:46.241716Z",
     "start_time": "2025-01-15T13:05:46.238583Z"
    }
   },
   "source": [
    "print_basic_stats(standardize(normal))"
   ],
   "outputs": [
    {
     "name": "stdout",
     "output_type": "stream",
     "text": [
      "mean: 0.00\tstd: 1.00\tskew: 0.03\tkurtosis: 2.94\n"
     ]
    }
   ],
   "execution_count": 29
  },
  {
   "cell_type": "code",
   "id": "774c2d5f",
   "metadata": {
    "ExecuteTime": {
     "end_time": "2025-01-15T13:05:46.259331Z",
     "start_time": "2025-01-15T13:05:46.256107Z"
    }
   },
   "source": [
    "print_basic_stats(standardize(chi2))"
   ],
   "outputs": [
    {
     "name": "stdout",
     "output_type": "stream",
     "text": [
      "mean: -0.00\tstd: 1.00\tskew: 1.55\tkurtosis: 7.24\n"
     ]
    }
   ],
   "execution_count": 30
  },
  {
   "cell_type": "code",
   "id": "3769ed2a",
   "metadata": {
    "ExecuteTime": {
     "end_time": "2025-01-15T13:05:46.282213Z",
     "start_time": "2025-01-15T13:05:46.278909Z"
    }
   },
   "source": [
    "print_basic_stats(standardize(np.sqrt(chi2)))"
   ],
   "outputs": [
    {
     "name": "stdout",
     "output_type": "stream",
     "text": [
      "mean: 0.00\tstd: 1.00\tskew: 0.42\tkurtosis: 3.24\n"
     ]
    }
   ],
   "execution_count": 31
  },
  {
   "cell_type": "code",
   "id": "0af5719c",
   "metadata": {
    "ExecuteTime": {
     "end_time": "2025-01-15T13:05:46.301770Z",
     "start_time": "2025-01-15T13:05:46.299023Z"
    }
   },
   "source": "np.mean(np.power(standardize(chi2), 3))  # Skewness",
   "outputs": [
    {
     "data": {
      "text/plain": [
       "np.float64(1.551091421817855)"
      ]
     },
     "execution_count": 32,
     "metadata": {},
     "output_type": "execute_result"
    }
   ],
   "execution_count": 32
  },
  {
   "cell_type": "code",
   "id": "20dada6f",
   "metadata": {
    "ExecuteTime": {
     "end_time": "2025-01-15T13:05:46.318113Z",
     "start_time": "2025-01-15T13:05:46.315229Z"
    }
   },
   "source": "np.mean(np.power(standardize(chi2), 4))  # kurtosis",
   "outputs": [
    {
     "data": {
      "text/plain": [
       "np.float64(7.239213232139549)"
      ]
     },
     "execution_count": 33,
     "metadata": {},
     "output_type": "execute_result"
    }
   ],
   "execution_count": 33
  },
  {
   "cell_type": "markdown",
   "id": "1dd18e1b",
   "metadata": {},
   "source": [
    "## Transformations of random variables"
   ]
  },
  {
   "cell_type": "markdown",
   "id": "a315070b",
   "metadata": {},
   "source": [
    "Consider a Binomial random variable"
   ]
  },
  {
   "cell_type": "code",
   "id": "294c145e",
   "metadata": {
    "ExecuteTime": {
     "end_time": "2025-01-15T13:05:46.336769Z",
     "start_time": "2025-01-15T13:05:46.334596Z"
    }
   },
   "source": [
    "n = 10\n",
    "p = 0.5\n",
    "x = np.random.binomial(n, p, size=1000)"
   ],
   "outputs": [],
   "execution_count": 34
  },
  {
   "cell_type": "markdown",
   "id": "83ba1a31",
   "metadata": {},
   "source": [
    "Lets plot the empirical density"
   ]
  },
  {
   "cell_type": "code",
   "id": "cdc0d7a4",
   "metadata": {
    "ExecuteTime": {
     "end_time": "2025-01-15T13:05:46.427061Z",
     "start_time": "2025-01-15T13:05:46.353721Z"
    }
   },
   "source": [
    "from Utils import makeEMF, makeEDF, plotEDF, plotEMF\n",
    "\n",
    "plotEMF(makeEMF(x))"
   ],
   "outputs": [
    {
     "data": {
      "text/plain": [
       "<Figure size 640x480 with 1 Axes>"
      ],
      "image/png": "[encoded data removed]"
     },
     "metadata": {},
     "output_type": "display_data"
    }
   ],
   "execution_count": 35
  },
  {
   "cell_type": "markdown",
   "id": "8a28162a",
   "metadata": {},
   "source": [
    "If we had the function $g(x) = \\sin(x/3)$"
   ]
  },
  {
   "cell_type": "code",
   "id": "dfcc9af5",
   "metadata": {
    "ExecuteTime": {
     "end_time": "2025-01-15T13:05:46.480717Z",
     "start_time": "2025-01-15T13:05:46.431743Z"
    }
   },
   "source": [
    "plotEMF(makeEMF(np.sin(x)))"
   ],
   "outputs": [
    {
     "data": {
      "text/plain": [
       "<Figure size 640x480 with 1 Axes>"
      ],
      "image/png": "[encoded data removed]"
     },
     "metadata": {},
     "output_type": "display_data"
    }
   ],
   "execution_count": 36
  },
  {
   "cell_type": "code",
   "id": "4167118f",
   "metadata": {
    "ExecuteTime": {
     "end_time": "2025-01-15T13:05:46.543983Z",
     "start_time": "2025-01-15T13:05:46.488729Z"
    }
   },
   "source": [
    "plotEDF(makeEDF(np.sin(x)))"
   ],
   "outputs": [
    {
     "data": {
      "text/plain": [
       "<Figure size 640x480 with 1 Axes>"
      ],
      "image/png": "[encoded data removed]"
     },
     "metadata": {},
     "output_type": "display_data"
    }
   ],
   "execution_count": 37
  },
  {
   "cell_type": "markdown",
   "id": "6b0c8b89",
   "metadata": {},
   "source": [
    "Can we compute this thing?\n",
    "What is $\\sin^{[-1]}$?\n",
    "\n",
    "Since $X$ is discrete, we can check what $\\mathbb{Y}$ is, since $\\mathbb{X}=\\{0,1,\\ldots,10\\}$."
   ]
  },
  {
   "cell_type": "code",
   "id": "829f7a59",
   "metadata": {
    "ExecuteTime": {
     "end_time": "2025-01-15T13:05:46.552114Z",
     "start_time": "2025-01-15T13:05:46.550265Z"
    }
   },
   "source": [
    "Y_space = np.sort(np.sin(np.arange(0, 11)))\n",
    "sin_inv = dict(zip(np.sin(np.arange(0, 11)), np.arange(0, 11)))"
   ],
   "outputs": [],
   "execution_count": 38
  },
  {
   "cell_type": "code",
   "id": "e4b83adf",
   "metadata": {
    "ExecuteTime": {
     "end_time": "2025-01-15T13:05:46.622695Z",
     "start_time": "2025-01-15T13:05:46.564871Z"
    }
   },
   "source": [
    "from scipy.special import binom as binomial\n",
    "\n",
    "plotEMF([(y, binomial(n, sin_inv[y]) * (p ** sin_inv[y]) * ((1 - p) ** (n - sin_inv[y]))) for y in Y_space])"
   ],
   "outputs": [
    {
     "data": {
      "text/plain": [
       "<Figure size 640x480 with 1 Axes>"
      ],
      "image/png": "[encoded data removed]"
     },
     "metadata": {},
     "output_type": "display_data"
    }
   ],
   "execution_count": 39
  },
  {
   "cell_type": "code",
   "id": "4f068457",
   "metadata": {
    "ExecuteTime": {
     "end_time": "2025-01-15T13:05:46.696018Z",
     "start_time": "2025-01-15T13:05:46.635090Z"
    }
   },
   "source": [
    "from Code.Utils import emfToEdf\n",
    "\n",
    "plotEDF(emfToEdf([(y, binomial(n, sin_inv[y]) * (p ** sin_inv[y]) * ((1 - p) ** (n - sin_inv[y]))) for y in Y_space]))"
   ],
   "outputs": [
    {
     "data": {
      "text/plain": [
       "<Figure size 640x480 with 1 Axes>"
      ],
      "image/png": "[encoded data removed]"
     },
     "metadata": {},
     "output_type": "display_data"
    }
   ],
   "execution_count": 40
  }
 ],
 "metadata": {
  "kernelspec": {
   "display_name": "Python 3 (ipykernel)",
   "language": "python",
   "name": "python3"
  },
  "language_info": {
   "codemirror_mode": {
    "name": "ipython",
    "version": 3
   },
   "file_extension": ".py",
   "mimetype": "text/x-python",
   "name": "python",
   "nbconvert_exporter": "python",
   "pygments_lexer": "ipython3",
   "version": "3.9.13"
  },
  "lx_course_instance": "2024",
  "lx_course_name": "Introduction to Data Science",
  "lx_course_number": "1MS041"
 },
 "nbformat": 4,
 "nbformat_minor": 5
}
